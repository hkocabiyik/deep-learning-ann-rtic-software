{
 "cells": [
  {
   "cell_type": "code",
   "execution_count": 1,
   "source": [
    "import matplotlib.pyplot as plt\n",
    "import numpy as np\n",
    "import random"
   ],
   "outputs": [],
   "metadata": {}
  },
  {
   "cell_type": "markdown",
   "source": [
    "# Feed Forward ANN from scratch"
   ],
   "metadata": {}
  },
  {
   "cell_type": "markdown",
   "source": [
    "<img src=\"./FeedForward.png\" alt=\"drawing\" width=\"600\"/>"
   ],
   "metadata": {}
  },
  {
   "cell_type": "markdown",
   "source": [
    "### Load Data"
   ],
   "metadata": {}
  },
  {
   "cell_type": "code",
   "execution_count": 19,
   "source": [
    "from sklearn.datasets import make_moons\n",
    "X,y = make_moons(n_samples = 50, noise = 0.2, random_state= 42)"
   ],
   "outputs": [],
   "metadata": {}
  },
  {
   "cell_type": "markdown",
   "source": [
    "#### Check shape"
   ],
   "metadata": {}
  },
  {
   "cell_type": "code",
   "execution_count": 2,
   "source": [
    "X.shape, y.shape"
   ],
   "outputs": [
    {
     "output_type": "execute_result",
     "data": {
      "text/plain": [
       "((50, 2), (50,))"
      ]
     },
     "metadata": {},
     "execution_count": 2
    }
   ],
   "metadata": {}
  },
  {
   "cell_type": "code",
   "execution_count": 3,
   "source": [
    "X"
   ],
   "outputs": [
    {
     "output_type": "execute_result",
     "data": {
      "text/plain": [
       "array([[-0.15856989,  0.98480618],\n",
       "       [ 1.10900374, -0.62160223],\n",
       "       [ 0.39641523,  0.20740869],\n",
       "       [ 1.79239122,  0.07511293],\n",
       "       [-0.84739307,  0.71154296],\n",
       "       [ 1.90209657,  0.67432213],\n",
       "       [ 0.0731551 ,  0.09079042],\n",
       "       [-0.43566685,  0.29122072],\n",
       "       [ 0.42577731, -0.22851359],\n",
       "       [-0.64418143,  0.24144478],\n",
       "       [ 0.11289285,  1.00510013],\n",
       "       [ 0.96066405,  0.63183812],\n",
       "       [ 1.46814927, -0.28580296],\n",
       "       [ 0.5192833 ,  0.94984582],\n",
       "       [ 0.73327397,  0.17310931],\n",
       "       [ 0.33197143,  0.43375035],\n",
       "       [ 1.62726102, -0.54736954],\n",
       "       [ 2.01908805,  0.37804882],\n",
       "       [ 2.00824323,  0.36058988],\n",
       "       [-0.56195047,  0.90148197],\n",
       "       [ 0.67647169,  0.69909987],\n",
       "       [-0.30999892,  1.2113287 ],\n",
       "       [-0.90842298, -0.33685748],\n",
       "       [ 0.68268561, -0.44010332],\n",
       "       [ 0.38645217, -0.05988231],\n",
       "       [ 0.84405962, -0.16877927],\n",
       "       [ 1.76324657, -0.30187296],\n",
       "       [ 0.06417199,  0.2184967 ],\n",
       "       [ 1.02670564, -0.57104358],\n",
       "       [ 0.63694378,  0.69355004],\n",
       "       [ 0.30851562,  0.4574452 ],\n",
       "       [ 0.45511029,  1.15619148],\n",
       "       [ 0.92808566, -0.31211878],\n",
       "       [ 0.86938046,  0.06729301],\n",
       "       [-1.22036438,  0.33691393],\n",
       "       [ 1.15845408,  0.21688056],\n",
       "       [ 1.5522982 , -0.27906241],\n",
       "       [ 0.88599761, -0.51707875],\n",
       "       [-0.82146062, -0.13173865],\n",
       "       [ 1.20862244, -0.52520818],\n",
       "       [-0.00317109,  1.55465851],\n",
       "       [-1.18517899,  0.44179591],\n",
       "       [-0.84031891,  0.60434928],\n",
       "       [ 2.06026456,  0.20829662],\n",
       "       [-0.99857307,  0.47070544],\n",
       "       [ 0.43955803,  0.62885547],\n",
       "       [ 1.82610683, -0.09235596],\n",
       "       [-0.34717225,  0.94909281],\n",
       "       [ 0.32352368, -0.16797921],\n",
       "       [ 1.19813072, -0.09653062]])"
      ]
     },
     "metadata": {},
     "execution_count": 3
    }
   ],
   "metadata": {}
  },
  {
   "cell_type": "code",
   "execution_count": 4,
   "source": [
    "y"
   ],
   "outputs": [
    {
     "output_type": "execute_result",
     "data": {
      "text/plain": [
       "array([0, 1, 1, 1, 0, 1, 1, 1, 1, 0, 0, 0, 1, 0, 0, 0, 1, 1, 1, 0, 0, 0,\n",
       "       0, 1, 1, 0, 1, 1, 1, 0, 1, 0, 1, 0, 0, 0, 1, 1, 0, 1, 0, 0, 0, 1,\n",
       "       0, 0, 1, 0, 1, 1])"
      ]
     },
     "metadata": {},
     "execution_count": 4
    }
   ],
   "metadata": {}
  },
  {
   "cell_type": "markdown",
   "source": [
    "#### Plot"
   ],
   "metadata": {}
  },
  {
   "cell_type": "code",
   "execution_count": 7,
   "source": [
    "plt.scatter(X[:,0], X[:,1], c = y)\n",
    "plt.xlabel('X0')\n",
    "plt.ylabel('X1')"
   ],
   "outputs": [
    {
     "output_type": "execute_result",
     "data": {
      "text/plain": [
       "Text(0, 0.5, 'X1')"
      ]
     },
     "metadata": {},
     "execution_count": 7
    },
    {
     "output_type": "display_data",
     "data": {
      "text/plain": [
       "<Figure size 432x288 with 1 Axes>"
      ],
      "image/svg+xml": "<?xml version=\"1.0\" encoding=\"utf-8\" standalone=\"no\"?>\n<!DOCTYPE svg PUBLIC \"-//W3C//DTD SVG 1.1//EN\"\n  \"http://www.w3.org/Graphics/SVG/1.1/DTD/svg11.dtd\">\n<!-- Created with matplotlib (https://matplotlib.org/) -->\n<svg height=\"262.19625pt\" version=\"1.1\" viewBox=\"0 0 394.160937 262.19625\" width=\"394.160937pt\" xmlns=\"http://www.w3.org/2000/svg\" xmlns:xlink=\"http://www.w3.org/1999/xlink\">\n <metadata>\n  <rdf:RDF xmlns:cc=\"http://creativecommons.org/ns#\" xmlns:dc=\"http://purl.org/dc/elements/1.1/\" xmlns:rdf=\"http://www.w3.org/1999/02/22-rdf-syntax-ns#\">\n   <cc:Work>\n    <dc:type rdf:resource=\"http://purl.org/dc/dcmitype/StillImage\"/>\n    <dc:date>2022-05-06T19:08:57.768105</dc:date>\n    <dc:format>image/svg+xml</dc:format>\n    <dc:creator>\n     <cc:Agent>\n      <dc:title>Matplotlib v3.3.4, https://matplotlib.org/</dc:title>\n     </cc:Agent>\n    </dc:creator>\n   </cc:Work>\n  </rdf:RDF>\n </metadata>\n <defs>\n  <style type=\"text/css\">*{stroke-linecap:butt;stroke-linejoin:round;}</style>\n </defs>\n <g id=\"figure_1\">\n  <g id=\"patch_1\">\n   <path d=\"M 0 262.19625 \nL 394.160937 262.19625 \nL 394.160937 0 \nL 0 0 \nz\n\" style=\"fill:none;\"/>\n  </g>\n  <g id=\"axes_1\">\n   <g id=\"patch_2\">\n    <path d=\"M 52.160938 224.64 \nL 386.960938 224.64 \nL 386.960938 7.2 \nL 52.160938 7.2 \nz\n\" style=\"fill:#ffffff;\"/>\n   </g>\n   <g id=\"PathCollection_1\">\n    <defs>\n     <path d=\"M 0 3 \nC 0.795609 3 1.55874 2.683901 2.12132 2.12132 \nC 2.683901 1.55874 3 0.795609 3 -0 \nC 3 -0.795609 2.683901 -1.55874 2.12132 -2.12132 \nC 1.55874 -2.683901 0.795609 -3 0 -3 \nC -0.795609 -3 -1.55874 -2.683901 -2.12132 -2.12132 \nC -2.683901 -1.55874 -3 -0.795609 -3 0 \nC -3 0.795609 -2.683901 1.55874 -2.12132 2.12132 \nC -1.55874 2.683901 -0.795609 3 0 3 \nz\n\" id=\"C0_0_89bc0ad69c\"/>\n    </defs>\n    <g clip-path=\"url(#pe0ba1e1b09)\">\n     <use style=\"fill:#440154;stroke:#440154;\" x=\"165.888167\" xlink:href=\"#C0_0_89bc0ad69c\" y=\"68.8441\"/>\n    </g>\n    <g clip-path=\"url(#pe0ba1e1b09)\">\n     <use style=\"fill:#fde725;stroke:#fde725;\" x=\"283.48858\" xlink:href=\"#C0_0_89bc0ad69c\" y=\"214.756364\"/>\n    </g>\n    <g clip-path=\"url(#pe0ba1e1b09)\">\n     <use style=\"fill:#fde725;stroke:#fde725;\" x=\"217.377467\" xlink:href=\"#C0_0_89bc0ad69c\" y=\"139.456173\"/>\n    </g>\n    <g clip-path=\"url(#pe0ba1e1b09)\">\n     <use style=\"fill:#fde725;stroke:#fde725;\" x=\"346.890538\" xlink:href=\"#C0_0_89bc0ad69c\" y=\"151.472777\"/>\n    </g>\n    <g clip-path=\"url(#pe0ba1e1b09)\">\n     <use style=\"fill:#440154;stroke:#440154;\" x=\"101.981906\" xlink:href=\"#C0_0_89bc0ad69c\" y=\"93.66497\"/>\n    </g>\n    <g clip-path=\"url(#pe0ba1e1b09)\">\n     <use style=\"fill:#fde725;stroke:#fde725;\" x=\"357.068562\" xlink:href=\"#C0_0_89bc0ad69c\" y=\"97.045789\"/>\n    </g>\n    <g clip-path=\"url(#pe0ba1e1b09)\">\n     <use style=\"fill:#fde725;stroke:#fde725;\" x=\"187.386685\" xlink:href=\"#C0_0_89bc0ad69c\" y=\"150.048769\"/>\n    </g>\n    <g clip-path=\"url(#pe0ba1e1b09)\">\n     <use style=\"fill:#fde725;stroke:#fde725;\" x=\"140.180219\" xlink:href=\"#C0_0_89bc0ad69c\" y=\"131.843412\"/>\n    </g>\n    <g clip-path=\"url(#pe0ba1e1b09)\">\n     <use style=\"fill:#fde725;stroke:#fde725;\" x=\"220.101564\" xlink:href=\"#C0_0_89bc0ad69c\" y=\"179.051587\"/>\n    </g>\n    <g clip-path=\"url(#pe0ba1e1b09)\">\n     <use style=\"fill:#440154;stroke:#440154;\" x=\"120.83507\" xlink:href=\"#C0_0_89bc0ad69c\" y=\"136.364628\"/>\n    </g>\n    <g clip-path=\"url(#pe0ba1e1b09)\">\n     <use style=\"fill:#440154;stroke:#440154;\" x=\"191.073394\" xlink:href=\"#C0_0_89bc0ad69c\" y=\"67.000772\"/>\n    </g>\n    <g clip-path=\"url(#pe0ba1e1b09)\">\n     <use style=\"fill:#440154;stroke:#440154;\" x=\"269.726217\" xlink:href=\"#C0_0_89bc0ad69c\" y=\"100.904669\"/>\n    </g>\n    <g clip-path=\"url(#pe0ba1e1b09)\">\n     <use style=\"fill:#fde725;stroke:#fde725;\" x=\"316.808666\" xlink:href=\"#C0_0_89bc0ad69c\" y=\"184.255259\"/>\n    </g>\n    <g clip-path=\"url(#pe0ba1e1b09)\">\n     <use style=\"fill:#440154;stroke:#440154;\" x=\"228.776675\" xlink:href=\"#C0_0_89bc0ad69c\" y=\"72.019596\"/>\n    </g>\n    <g clip-path=\"url(#pe0ba1e1b09)\">\n     <use style=\"fill:#440154;stroke:#440154;\" x=\"248.629875\" xlink:href=\"#C0_0_89bc0ad69c\" y=\"142.571632\"/>\n    </g>\n    <g clip-path=\"url(#pe0ba1e1b09)\">\n     <use style=\"fill:#440154;stroke:#440154;\" x=\"211.398629\" xlink:href=\"#C0_0_89bc0ad69c\" y=\"118.897251\"/>\n    </g>\n    <g clip-path=\"url(#pe0ba1e1b09)\">\n     <use style=\"fill:#fde725;stroke:#fde725;\" x=\"331.570419\" xlink:href=\"#C0_0_89bc0ad69c\" y=\"208.013707\"/>\n    </g>\n    <g clip-path=\"url(#pe0ba1e1b09)\">\n     <use style=\"fill:#fde725;stroke:#fde725;\" x=\"367.922564\" xlink:href=\"#C0_0_89bc0ad69c\" y=\"123.956697\"/>\n    </g>\n    <g clip-path=\"url(#pe0ba1e1b09)\">\n     <use style=\"fill:#fde725;stroke:#fde725;\" x=\"366.916425\" xlink:href=\"#C0_0_89bc0ad69c\" y=\"125.542516\"/>\n    </g>\n    <g clip-path=\"url(#pe0ba1e1b09)\">\n     <use style=\"fill:#440154;stroke:#440154;\" x=\"128.46413\" xlink:href=\"#C0_0_89bc0ad69c\" y=\"76.412551\"/>\n    </g>\n    <g clip-path=\"url(#pe0ba1e1b09)\">\n     <use style=\"fill:#440154;stroke:#440154;\" x=\"243.359986\" xlink:href=\"#C0_0_89bc0ad69c\" y=\"94.795193\"/>\n    </g>\n    <g clip-path=\"url(#pe0ba1e1b09)\">\n     <use style=\"fill:#440154;stroke:#440154;\" x=\"151.839187\" xlink:href=\"#C0_0_89bc0ad69c\" y=\"48.268751\"/>\n    </g>\n    <g clip-path=\"url(#pe0ba1e1b09)\">\n     <use style=\"fill:#440154;stroke:#440154;\" x=\"96.319795\" xlink:href=\"#C0_0_89bc0ad69c\" y=\"188.89261\"/>\n    </g>\n    <g clip-path=\"url(#pe0ba1e1b09)\">\n     <use style=\"fill:#fde725;stroke:#fde725;\" x=\"243.936489\" xlink:href=\"#C0_0_89bc0ad69c\" y=\"198.270571\"/>\n    </g>\n    <g clip-path=\"url(#pe0ba1e1b09)\">\n     <use style=\"fill:#fde725;stroke:#fde725;\" x=\"216.453134\" xlink:href=\"#C0_0_89bc0ad69c\" y=\"163.734578\"/>\n    </g>\n    <g clip-path=\"url(#pe0ba1e1b09)\">\n     <use style=\"fill:#440154;stroke:#440154;\" x=\"258.908124\" xlink:href=\"#C0_0_89bc0ad69c\" y=\"173.625838\"/>\n    </g>\n    <g clip-path=\"url(#pe0ba1e1b09)\">\n     <use style=\"fill:#fde725;stroke:#fde725;\" x=\"344.186614\" xlink:href=\"#C0_0_89bc0ad69c\" y=\"185.714919\"/>\n    </g>\n    <g clip-path=\"url(#pe0ba1e1b09)\">\n     <use style=\"fill:#fde725;stroke:#fde725;\" x=\"186.553268\" xlink:href=\"#C0_0_89bc0ad69c\" y=\"138.449033\"/>\n    </g>\n    <g clip-path=\"url(#pe0ba1e1b09)\">\n     <use style=\"fill:#fde725;stroke:#fde725;\" x=\"275.853292\" xlink:href=\"#C0_0_89bc0ad69c\" y=\"210.164053\"/>\n    </g>\n    <g clip-path=\"url(#pe0ba1e1b09)\">\n     <use style=\"fill:#440154;stroke:#440154;\" x=\"239.692744\" xlink:href=\"#C0_0_89bc0ad69c\" y=\"95.299291\"/>\n    </g>\n    <g clip-path=\"url(#pe0ba1e1b09)\">\n     <use style=\"fill:#fde725;stroke:#fde725;\" x=\"209.222493\" xlink:href=\"#C0_0_89bc0ad69c\" y=\"116.745016\"/>\n    </g>\n    <g clip-path=\"url(#pe0ba1e1b09)\">\n     <use style=\"fill:#440154;stroke:#440154;\" x=\"222.822961\" xlink:href=\"#C0_0_89bc0ad69c\" y=\"53.27694\"/>\n    </g>\n    <g clip-path=\"url(#pe0ba1e1b09)\">\n     <use style=\"fill:#fde725;stroke:#fde725;\" x=\"266.703724\" xlink:href=\"#C0_0_89bc0ad69c\" y=\"186.645561\"/>\n    </g>\n    <g clip-path=\"url(#pe0ba1e1b09)\">\n     <use style=\"fill:#440154;stroke:#440154;\" x=\"261.25729\" xlink:href=\"#C0_0_89bc0ad69c\" y=\"152.183071\"/>\n    </g>\n    <g clip-path=\"url(#pe0ba1e1b09)\">\n     <use style=\"fill:#440154;stroke:#440154;\" x=\"67.379119\" xlink:href=\"#C0_0_89bc0ad69c\" y=\"127.693035\"/>\n    </g>\n    <g clip-path=\"url(#pe0ba1e1b09)\">\n     <use style=\"fill:#440154;stroke:#440154;\" x=\"288.076385\" xlink:href=\"#C0_0_89bc0ad69c\" y=\"138.59583\"/>\n    </g>\n    <g clip-path=\"url(#pe0ba1e1b09)\">\n     <use style=\"fill:#fde725;stroke:#fde725;\" x=\"324.615667\" xlink:href=\"#C0_0_89bc0ad69c\" y=\"183.643005\"/>\n    </g>\n    <g clip-path=\"url(#pe0ba1e1b09)\">\n     <use style=\"fill:#fde725;stroke:#fde725;\" x=\"262.798963\" xlink:href=\"#C0_0_89bc0ad69c\" y=\"205.262354\"/>\n    </g>\n    <g clip-path=\"url(#pe0ba1e1b09)\">\n     <use style=\"fill:#440154;stroke:#440154;\" x=\"104.387815\" xlink:href=\"#C0_0_89bc0ad69c\" y=\"170.261388\"/>\n    </g>\n    <g clip-path=\"url(#pe0ba1e1b09)\">\n     <use style=\"fill:#fde725;stroke:#fde725;\" x=\"292.730805\" xlink:href=\"#C0_0_89bc0ad69c\" y=\"206.000761\"/>\n    </g>\n    <g clip-path=\"url(#pe0ba1e1b09)\">\n     <use style=\"fill:#440154;stroke:#440154;\" x=\"180.305446\" xlink:href=\"#C0_0_89bc0ad69c\" y=\"17.083636\"/>\n    </g>\n    <g clip-path=\"url(#pe0ba1e1b09)\">\n     <use style=\"fill:#440154;stroke:#440154;\" x=\"70.64348\" xlink:href=\"#C0_0_89bc0ad69c\" y=\"118.166462\"/>\n    </g>\n    <g clip-path=\"url(#pe0ba1e1b09)\">\n     <use style=\"fill:#440154;stroke:#440154;\" x=\"102.638219\" xlink:href=\"#C0_0_89bc0ad69c\" y=\"103.401518\"/>\n    </g>\n    <g clip-path=\"url(#pe0ba1e1b09)\">\n     <use style=\"fill:#fde725;stroke:#fde725;\" x=\"371.742756\" xlink:href=\"#C0_0_89bc0ad69c\" y=\"139.375521\"/>\n    </g>\n    <g clip-path=\"url(#pe0ba1e1b09)\">\n     <use style=\"fill:#440154;stroke:#440154;\" x=\"87.956031\" xlink:href=\"#C0_0_89bc0ad69c\" y=\"115.54057\"/>\n    </g>\n    <g clip-path=\"url(#pe0ba1e1b09)\">\n     <use style=\"fill:#440154;stroke:#440154;\" x=\"221.380083\" xlink:href=\"#C0_0_89bc0ad69c\" y=\"101.175588\"/>\n    </g>\n    <g clip-path=\"url(#pe0ba1e1b09)\">\n     <use style=\"fill:#fde725;stroke:#fde725;\" x=\"350.018538\" xlink:href=\"#C0_0_89bc0ad69c\" y=\"166.684205\"/>\n    </g>\n    <g clip-path=\"url(#pe0ba1e1b09)\">\n     <use style=\"fill:#440154;stroke:#440154;\" x=\"148.390394\" xlink:href=\"#C0_0_89bc0ad69c\" y=\"72.087994\"/>\n    </g>\n    <g clip-path=\"url(#pe0ba1e1b09)\">\n     <use style=\"fill:#fde725;stroke:#fde725;\" x=\"210.614881\" xlink:href=\"#C0_0_89bc0ad69c\" y=\"173.553167\"/>\n    </g>\n    <g clip-path=\"url(#pe0ba1e1b09)\">\n     <use style=\"fill:#fde725;stroke:#fde725;\" x=\"291.757425\" xlink:href=\"#C0_0_89bc0ad69c\" y=\"167.063394\"/>\n    </g>\n   </g>\n   <g id=\"matplotlib.axis_1\">\n    <g id=\"xtick_1\">\n     <g id=\"line2d_1\">\n      <defs>\n       <path d=\"M 0 0 \nL 0 3.5 \n\" id=\"m9774100937\" style=\"stroke:#000000;stroke-width:0.8;\"/>\n      </defs>\n      <g>\n       <use style=\"stroke:#000000;stroke-width:0.8;\" x=\"87.823646\" xlink:href=\"#m9774100937\" y=\"224.64\"/>\n      </g>\n     </g>\n     <g id=\"text_1\">\n      <!-- −1.0 -->\n      <g transform=\"translate(75.682239 239.238437)scale(0.1 -0.1)\">\n       <defs>\n        <path d=\"M 10.59375 35.5 \nL 73.1875 35.5 \nL 73.1875 27.203125 \nL 10.59375 27.203125 \nz\n\" id=\"DejaVuSans-8722\"/>\n        <path d=\"M 12.40625 8.296875 \nL 28.515625 8.296875 \nL 28.515625 63.921875 \nL 10.984375 60.40625 \nL 10.984375 69.390625 \nL 28.421875 72.90625 \nL 38.28125 72.90625 \nL 38.28125 8.296875 \nL 54.390625 8.296875 \nL 54.390625 0 \nL 12.40625 0 \nz\n\" id=\"DejaVuSans-49\"/>\n        <path d=\"M 10.6875 12.40625 \nL 21 12.40625 \nL 21 0 \nL 10.6875 0 \nz\n\" id=\"DejaVuSans-46\"/>\n        <path d=\"M 31.78125 66.40625 \nQ 24.171875 66.40625 20.328125 58.90625 \nQ 16.5 51.421875 16.5 36.375 \nQ 16.5 21.390625 20.328125 13.890625 \nQ 24.171875 6.390625 31.78125 6.390625 \nQ 39.453125 6.390625 43.28125 13.890625 \nQ 47.125 21.390625 47.125 36.375 \nQ 47.125 51.421875 43.28125 58.90625 \nQ 39.453125 66.40625 31.78125 66.40625 \nz\nM 31.78125 74.21875 \nQ 44.046875 74.21875 50.515625 64.515625 \nQ 56.984375 54.828125 56.984375 36.375 \nQ 56.984375 17.96875 50.515625 8.265625 \nQ 44.046875 -1.421875 31.78125 -1.421875 \nQ 19.53125 -1.421875 13.0625 8.265625 \nQ 6.59375 17.96875 6.59375 36.375 \nQ 6.59375 54.828125 13.0625 64.515625 \nQ 19.53125 74.21875 31.78125 74.21875 \nz\n\" id=\"DejaVuSans-48\"/>\n       </defs>\n       <use xlink:href=\"#DejaVuSans-8722\"/>\n       <use x=\"83.789062\" xlink:href=\"#DejaVuSans-49\"/>\n       <use x=\"147.412109\" xlink:href=\"#DejaVuSans-46\"/>\n       <use x=\"179.199219\" xlink:href=\"#DejaVuSans-48\"/>\n      </g>\n     </g>\n    </g>\n    <g id=\"xtick_2\">\n     <g id=\"line2d_2\">\n      <g>\n       <use style=\"stroke:#000000;stroke-width:0.8;\" x=\"134.211646\" xlink:href=\"#m9774100937\" y=\"224.64\"/>\n      </g>\n     </g>\n     <g id=\"text_2\">\n      <!-- −0.5 -->\n      <g transform=\"translate(122.07024 239.238437)scale(0.1 -0.1)\">\n       <defs>\n        <path d=\"M 10.796875 72.90625 \nL 49.515625 72.90625 \nL 49.515625 64.59375 \nL 19.828125 64.59375 \nL 19.828125 46.734375 \nQ 21.96875 47.46875 24.109375 47.828125 \nQ 26.265625 48.1875 28.421875 48.1875 \nQ 40.625 48.1875 47.75 41.5 \nQ 54.890625 34.8125 54.890625 23.390625 \nQ 54.890625 11.625 47.5625 5.09375 \nQ 40.234375 -1.421875 26.90625 -1.421875 \nQ 22.3125 -1.421875 17.546875 -0.640625 \nQ 12.796875 0.140625 7.71875 1.703125 \nL 7.71875 11.625 \nQ 12.109375 9.234375 16.796875 8.0625 \nQ 21.484375 6.890625 26.703125 6.890625 \nQ 35.15625 6.890625 40.078125 11.328125 \nQ 45.015625 15.765625 45.015625 23.390625 \nQ 45.015625 31 40.078125 35.4375 \nQ 35.15625 39.890625 26.703125 39.890625 \nQ 22.75 39.890625 18.8125 39.015625 \nQ 14.890625 38.140625 10.796875 36.28125 \nz\n\" id=\"DejaVuSans-53\"/>\n       </defs>\n       <use xlink:href=\"#DejaVuSans-8722\"/>\n       <use x=\"83.789062\" xlink:href=\"#DejaVuSans-48\"/>\n       <use x=\"147.412109\" xlink:href=\"#DejaVuSans-46\"/>\n       <use x=\"179.199219\" xlink:href=\"#DejaVuSans-53\"/>\n      </g>\n     </g>\n    </g>\n    <g id=\"xtick_3\">\n     <g id=\"line2d_3\">\n      <g>\n       <use style=\"stroke:#000000;stroke-width:0.8;\" x=\"180.599647\" xlink:href=\"#m9774100937\" y=\"224.64\"/>\n      </g>\n     </g>\n     <g id=\"text_3\">\n      <!-- 0.0 -->\n      <g transform=\"translate(172.648085 239.238437)scale(0.1 -0.1)\">\n       <use xlink:href=\"#DejaVuSans-48\"/>\n       <use x=\"63.623047\" xlink:href=\"#DejaVuSans-46\"/>\n       <use x=\"95.410156\" xlink:href=\"#DejaVuSans-48\"/>\n      </g>\n     </g>\n    </g>\n    <g id=\"xtick_4\">\n     <g id=\"line2d_4\">\n      <g>\n       <use style=\"stroke:#000000;stroke-width:0.8;\" x=\"226.987648\" xlink:href=\"#m9774100937\" y=\"224.64\"/>\n      </g>\n     </g>\n     <g id=\"text_4\">\n      <!-- 0.5 -->\n      <g transform=\"translate(219.036086 239.238437)scale(0.1 -0.1)\">\n       <use xlink:href=\"#DejaVuSans-48\"/>\n       <use x=\"63.623047\" xlink:href=\"#DejaVuSans-46\"/>\n       <use x=\"95.410156\" xlink:href=\"#DejaVuSans-53\"/>\n      </g>\n     </g>\n    </g>\n    <g id=\"xtick_5\">\n     <g id=\"line2d_5\">\n      <g>\n       <use style=\"stroke:#000000;stroke-width:0.8;\" x=\"273.375649\" xlink:href=\"#m9774100937\" y=\"224.64\"/>\n      </g>\n     </g>\n     <g id=\"text_5\">\n      <!-- 1.0 -->\n      <g transform=\"translate(265.424087 239.238437)scale(0.1 -0.1)\">\n       <use xlink:href=\"#DejaVuSans-49\"/>\n       <use x=\"63.623047\" xlink:href=\"#DejaVuSans-46\"/>\n       <use x=\"95.410156\" xlink:href=\"#DejaVuSans-48\"/>\n      </g>\n     </g>\n    </g>\n    <g id=\"xtick_6\">\n     <g id=\"line2d_6\">\n      <g>\n       <use style=\"stroke:#000000;stroke-width:0.8;\" x=\"319.76365\" xlink:href=\"#m9774100937\" y=\"224.64\"/>\n      </g>\n     </g>\n     <g id=\"text_6\">\n      <!-- 1.5 -->\n      <g transform=\"translate(311.812087 239.238437)scale(0.1 -0.1)\">\n       <use xlink:href=\"#DejaVuSans-49\"/>\n       <use x=\"63.623047\" xlink:href=\"#DejaVuSans-46\"/>\n       <use x=\"95.410156\" xlink:href=\"#DejaVuSans-53\"/>\n      </g>\n     </g>\n    </g>\n    <g id=\"xtick_7\">\n     <g id=\"line2d_7\">\n      <g>\n       <use style=\"stroke:#000000;stroke-width:0.8;\" x=\"366.151651\" xlink:href=\"#m9774100937\" y=\"224.64\"/>\n      </g>\n     </g>\n     <g id=\"text_7\">\n      <!-- 2.0 -->\n      <g transform=\"translate(358.200088 239.238437)scale(0.1 -0.1)\">\n       <defs>\n        <path d=\"M 19.1875 8.296875 \nL 53.609375 8.296875 \nL 53.609375 0 \nL 7.328125 0 \nL 7.328125 8.296875 \nQ 12.9375 14.109375 22.625 23.890625 \nQ 32.328125 33.6875 34.8125 36.53125 \nQ 39.546875 41.84375 41.421875 45.53125 \nQ 43.3125 49.21875 43.3125 52.78125 \nQ 43.3125 58.59375 39.234375 62.25 \nQ 35.15625 65.921875 28.609375 65.921875 \nQ 23.96875 65.921875 18.8125 64.3125 \nQ 13.671875 62.703125 7.8125 59.421875 \nL 7.8125 69.390625 \nQ 13.765625 71.78125 18.9375 73 \nQ 24.125 74.21875 28.421875 74.21875 \nQ 39.75 74.21875 46.484375 68.546875 \nQ 53.21875 62.890625 53.21875 53.421875 \nQ 53.21875 48.921875 51.53125 44.890625 \nQ 49.859375 40.875 45.40625 35.40625 \nQ 44.1875 33.984375 37.640625 27.21875 \nQ 31.109375 20.453125 19.1875 8.296875 \nz\n\" id=\"DejaVuSans-50\"/>\n       </defs>\n       <use xlink:href=\"#DejaVuSans-50\"/>\n       <use x=\"63.623047\" xlink:href=\"#DejaVuSans-46\"/>\n       <use x=\"95.410156\" xlink:href=\"#DejaVuSans-48\"/>\n      </g>\n     </g>\n    </g>\n    <g id=\"text_8\">\n     <!-- X0 -->\n     <g transform=\"translate(212.954688 252.916562)scale(0.1 -0.1)\">\n      <defs>\n       <path d=\"M 6.296875 72.90625 \nL 16.890625 72.90625 \nL 35.015625 45.796875 \nL 53.21875 72.90625 \nL 63.8125 72.90625 \nL 40.375 37.890625 \nL 65.375 0 \nL 54.78125 0 \nL 34.28125 31 \nL 13.625 0 \nL 2.984375 0 \nL 29 38.921875 \nz\n\" id=\"DejaVuSans-88\"/>\n      </defs>\n      <use xlink:href=\"#DejaVuSans-88\"/>\n      <use x=\"68.505859\" xlink:href=\"#DejaVuSans-48\"/>\n     </g>\n    </g>\n   </g>\n   <g id=\"matplotlib.axis_2\">\n    <g id=\"ytick_1\">\n     <g id=\"line2d_8\">\n      <defs>\n       <path d=\"M 0 0 \nL -3.5 0 \n\" id=\"m831e5467b1\" style=\"stroke:#000000;stroke-width:0.8;\"/>\n      </defs>\n      <g>\n       <use style=\"stroke:#000000;stroke-width:0.8;\" x=\"52.160938\" xlink:href=\"#m831e5467b1\" y=\"203.711068\"/>\n      </g>\n     </g>\n     <g id=\"text_9\">\n      <!-- −0.5 -->\n      <g transform=\"translate(20.878125 207.510286)scale(0.1 -0.1)\">\n       <use xlink:href=\"#DejaVuSans-8722\"/>\n       <use x=\"83.789062\" xlink:href=\"#DejaVuSans-48\"/>\n       <use x=\"147.412109\" xlink:href=\"#DejaVuSans-46\"/>\n       <use x=\"179.199219\" xlink:href=\"#DejaVuSans-53\"/>\n      </g>\n     </g>\n    </g>\n    <g id=\"ytick_2\">\n     <g id=\"line2d_9\">\n      <g>\n       <use style=\"stroke:#000000;stroke-width:0.8;\" x=\"52.160938\" xlink:href=\"#m831e5467b1\" y=\"158.295387\"/>\n      </g>\n     </g>\n     <g id=\"text_10\">\n      <!-- 0.0 -->\n      <g transform=\"translate(29.257812 162.094605)scale(0.1 -0.1)\">\n       <use xlink:href=\"#DejaVuSans-48\"/>\n       <use x=\"63.623047\" xlink:href=\"#DejaVuSans-46\"/>\n       <use x=\"95.410156\" xlink:href=\"#DejaVuSans-48\"/>\n      </g>\n     </g>\n    </g>\n    <g id=\"ytick_3\">\n     <g id=\"line2d_10\">\n      <g>\n       <use style=\"stroke:#000000;stroke-width:0.8;\" x=\"52.160938\" xlink:href=\"#m831e5467b1\" y=\"112.879705\"/>\n      </g>\n     </g>\n     <g id=\"text_11\">\n      <!-- 0.5 -->\n      <g transform=\"translate(29.257812 116.678924)scale(0.1 -0.1)\">\n       <use xlink:href=\"#DejaVuSans-48\"/>\n       <use x=\"63.623047\" xlink:href=\"#DejaVuSans-46\"/>\n       <use x=\"95.410156\" xlink:href=\"#DejaVuSans-53\"/>\n      </g>\n     </g>\n    </g>\n    <g id=\"ytick_4\">\n     <g id=\"line2d_11\">\n      <g>\n       <use style=\"stroke:#000000;stroke-width:0.8;\" x=\"52.160938\" xlink:href=\"#m831e5467b1\" y=\"67.464024\"/>\n      </g>\n     </g>\n     <g id=\"text_12\">\n      <!-- 1.0 -->\n      <g transform=\"translate(29.257812 71.263243)scale(0.1 -0.1)\">\n       <use xlink:href=\"#DejaVuSans-49\"/>\n       <use x=\"63.623047\" xlink:href=\"#DejaVuSans-46\"/>\n       <use x=\"95.410156\" xlink:href=\"#DejaVuSans-48\"/>\n      </g>\n     </g>\n    </g>\n    <g id=\"ytick_5\">\n     <g id=\"line2d_12\">\n      <g>\n       <use style=\"stroke:#000000;stroke-width:0.8;\" x=\"52.160938\" xlink:href=\"#m831e5467b1\" y=\"22.048343\"/>\n      </g>\n     </g>\n     <g id=\"text_13\">\n      <!-- 1.5 -->\n      <g transform=\"translate(29.257812 25.847562)scale(0.1 -0.1)\">\n       <use xlink:href=\"#DejaVuSans-49\"/>\n       <use x=\"63.623047\" xlink:href=\"#DejaVuSans-46\"/>\n       <use x=\"95.410156\" xlink:href=\"#DejaVuSans-53\"/>\n      </g>\n     </g>\n    </g>\n    <g id=\"text_14\">\n     <!-- X1 -->\n     <g transform=\"translate(14.798438 122.52625)rotate(-90)scale(0.1 -0.1)\">\n      <use xlink:href=\"#DejaVuSans-88\"/>\n      <use x=\"68.505859\" xlink:href=\"#DejaVuSans-49\"/>\n     </g>\n    </g>\n   </g>\n   <g id=\"patch_3\">\n    <path d=\"M 52.160938 224.64 \nL 52.160938 7.2 \n\" style=\"fill:none;stroke:#000000;stroke-linecap:square;stroke-linejoin:miter;stroke-width:0.8;\"/>\n   </g>\n   <g id=\"patch_4\">\n    <path d=\"M 386.960938 224.64 \nL 386.960938 7.2 \n\" style=\"fill:none;stroke:#000000;stroke-linecap:square;stroke-linejoin:miter;stroke-width:0.8;\"/>\n   </g>\n   <g id=\"patch_5\">\n    <path d=\"M 52.160937 224.64 \nL 386.960938 224.64 \n\" style=\"fill:none;stroke:#000000;stroke-linecap:square;stroke-linejoin:miter;stroke-width:0.8;\"/>\n   </g>\n   <g id=\"patch_6\">\n    <path d=\"M 52.160937 7.2 \nL 386.960938 7.2 \n\" style=\"fill:none;stroke:#000000;stroke-linecap:square;stroke-linejoin:miter;stroke-width:0.8;\"/>\n   </g>\n  </g>\n </g>\n <defs>\n  <clipPath id=\"pe0ba1e1b09\">\n   <rect height=\"217.44\" width=\"334.8\" x=\"52.160938\" y=\"7.2\"/>\n  </clipPath>\n </defs>\n</svg>\n",
      "image/png": "[encoded data removed]"
     },
     "metadata": {
      "needs_background": "light"
     }
    }
   ],
   "metadata": {}
  },
  {
   "cell_type": "markdown",
   "source": [
    "### Add Bias"
   ],
   "metadata": {}
  },
  {
   "cell_type": "code",
   "execution_count": 8,
   "source": [
    "arr = X"
   ],
   "outputs": [],
   "metadata": {}
  },
  {
   "cell_type": "markdown",
   "source": [
    "#### Create array of `1`s with the shape of the first dim of X "
   ],
   "metadata": {}
  },
  {
   "cell_type": "code",
   "execution_count": 9,
   "source": [
    "np.ones((arr.shape[0], 1))"
   ],
   "outputs": [
    {
     "output_type": "execute_result",
     "data": {
      "text/plain": [
       "array([[1.],\n",
       "       [1.],\n",
       "       [1.],\n",
       "       [1.],\n",
       "       [1.],\n",
       "       [1.],\n",
       "       [1.],\n",
       "       [1.],\n",
       "       [1.],\n",
       "       [1.],\n",
       "       [1.],\n",
       "       [1.],\n",
       "       [1.],\n",
       "       [1.],\n",
       "       [1.],\n",
       "       [1.],\n",
       "       [1.],\n",
       "       [1.],\n",
       "       [1.],\n",
       "       [1.],\n",
       "       [1.],\n",
       "       [1.],\n",
       "       [1.],\n",
       "       [1.],\n",
       "       [1.],\n",
       "       [1.],\n",
       "       [1.],\n",
       "       [1.],\n",
       "       [1.],\n",
       "       [1.],\n",
       "       [1.],\n",
       "       [1.],\n",
       "       [1.],\n",
       "       [1.],\n",
       "       [1.],\n",
       "       [1.],\n",
       "       [1.],\n",
       "       [1.],\n",
       "       [1.],\n",
       "       [1.],\n",
       "       [1.],\n",
       "       [1.],\n",
       "       [1.],\n",
       "       [1.],\n",
       "       [1.],\n",
       "       [1.],\n",
       "       [1.],\n",
       "       [1.],\n",
       "       [1.],\n",
       "       [1.]])"
      ]
     },
     "metadata": {},
     "execution_count": 9
    }
   ],
   "metadata": {
    "scrolled": true
   }
  },
  {
   "cell_type": "markdown",
   "source": [
    "#### Add it to X"
   ],
   "metadata": {}
  },
  {
   "cell_type": "code",
   "execution_count": 10,
   "source": [
    "np.hstack([arr,np.ones((arr.shape[0], 1))]) "
   ],
   "outputs": [
    {
     "output_type": "execute_result",
     "data": {
      "text/plain": [
       "array([[-0.15856989,  0.98480618,  1.        ],\n",
       "       [ 1.10900374, -0.62160223,  1.        ],\n",
       "       [ 0.39641523,  0.20740869,  1.        ],\n",
       "       [ 1.79239122,  0.07511293,  1.        ],\n",
       "       [-0.84739307,  0.71154296,  1.        ],\n",
       "       [ 1.90209657,  0.67432213,  1.        ],\n",
       "       [ 0.0731551 ,  0.09079042,  1.        ],\n",
       "       [-0.43566685,  0.29122072,  1.        ],\n",
       "       [ 0.42577731, -0.22851359,  1.        ],\n",
       "       [-0.64418143,  0.24144478,  1.        ],\n",
       "       [ 0.11289285,  1.00510013,  1.        ],\n",
       "       [ 0.96066405,  0.63183812,  1.        ],\n",
       "       [ 1.46814927, -0.28580296,  1.        ],\n",
       "       [ 0.5192833 ,  0.94984582,  1.        ],\n",
       "       [ 0.73327397,  0.17310931,  1.        ],\n",
       "       [ 0.33197143,  0.43375035,  1.        ],\n",
       "       [ 1.62726102, -0.54736954,  1.        ],\n",
       "       [ 2.01908805,  0.37804882,  1.        ],\n",
       "       [ 2.00824323,  0.36058988,  1.        ],\n",
       "       [-0.56195047,  0.90148197,  1.        ],\n",
       "       [ 0.67647169,  0.69909987,  1.        ],\n",
       "       [-0.30999892,  1.2113287 ,  1.        ],\n",
       "       [-0.90842298, -0.33685748,  1.        ],\n",
       "       [ 0.68268561, -0.44010332,  1.        ],\n",
       "       [ 0.38645217, -0.05988231,  1.        ],\n",
       "       [ 0.84405962, -0.16877927,  1.        ],\n",
       "       [ 1.76324657, -0.30187296,  1.        ],\n",
       "       [ 0.06417199,  0.2184967 ,  1.        ],\n",
       "       [ 1.02670564, -0.57104358,  1.        ],\n",
       "       [ 0.63694378,  0.69355004,  1.        ],\n",
       "       [ 0.30851562,  0.4574452 ,  1.        ],\n",
       "       [ 0.45511029,  1.15619148,  1.        ],\n",
       "       [ 0.92808566, -0.31211878,  1.        ],\n",
       "       [ 0.86938046,  0.06729301,  1.        ],\n",
       "       [-1.22036438,  0.33691393,  1.        ],\n",
       "       [ 1.15845408,  0.21688056,  1.        ],\n",
       "       [ 1.5522982 , -0.27906241,  1.        ],\n",
       "       [ 0.88599761, -0.51707875,  1.        ],\n",
       "       [-0.82146062, -0.13173865,  1.        ],\n",
       "       [ 1.20862244, -0.52520818,  1.        ],\n",
       "       [-0.00317109,  1.55465851,  1.        ],\n",
       "       [-1.18517899,  0.44179591,  1.        ],\n",
       "       [-0.84031891,  0.60434928,  1.        ],\n",
       "       [ 2.06026456,  0.20829662,  1.        ],\n",
       "       [-0.99857307,  0.47070544,  1.        ],\n",
       "       [ 0.43955803,  0.62885547,  1.        ],\n",
       "       [ 1.82610683, -0.09235596,  1.        ],\n",
       "       [-0.34717225,  0.94909281,  1.        ],\n",
       "       [ 0.32352368, -0.16797921,  1.        ],\n",
       "       [ 1.19813072, -0.09653062,  1.        ]])"
      ]
     },
     "metadata": {},
     "execution_count": 10
    }
   ],
   "metadata": {
    "scrolled": true
   }
  },
  {
   "cell_type": "markdown",
   "source": [
    "#### Create a nice function to add the bias to any array"
   ],
   "metadata": {}
  },
  {
   "cell_type": "code",
   "execution_count": 20,
   "source": [
    "def add_bias(arr):\n",
    "    #arr = np.c_[arr, np.ones((arr.shape[0], 1))]\n",
    "    arr = np.hstack([arr,np.ones((arr.shape[0], 1))]) \n",
    "    return arr"
   ],
   "outputs": [],
   "metadata": {}
  },
  {
   "cell_type": "code",
   "execution_count": 21,
   "source": [
    "X = add_bias(X)\n",
    "X.shape"
   ],
   "outputs": [
    {
     "output_type": "execute_result",
     "data": {
      "text/plain": [
       "(50, 3)"
      ]
     },
     "metadata": {},
     "execution_count": 21
    }
   ],
   "metadata": {}
  },
  {
   "cell_type": "code",
   "execution_count": 22,
   "source": [
    "X[0]"
   ],
   "outputs": [
    {
     "output_type": "execute_result",
     "data": {
      "text/plain": [
       "array([-0.15856989,  0.98480618,  1.        ])"
      ]
     },
     "metadata": {},
     "execution_count": 22
    }
   ],
   "metadata": {}
  },
  {
   "cell_type": "markdown",
   "source": [
    "### Define activation function\n",
    "- Sigmoid function:\n",
    "$s =  \\frac{\\mathrm{1} }{\\mathrm{1} + e^-x } $"
   ],
   "metadata": {}
  },
  {
   "cell_type": "code",
   "execution_count": 23,
   "source": [
    "def sigmoid(X):\n",
    "    s = 1/(1+np.exp(-X))\n",
    "    return s"
   ],
   "outputs": [],
   "metadata": {}
  },
  {
   "cell_type": "markdown",
   "source": [
    "##### Test if you have the correct function with following code"
   ],
   "metadata": {}
  },
  {
   "cell_type": "code",
   "execution_count": 24,
   "source": [
    "a = np.array([-10.0, -1.0, 0.0, 1.0, 10.0])\n",
    "expected = np.array([0.0, 0.27, 0.5, 0.73, 1.0])\n",
    "assert np.all(sigmoid(a).round(2) == expected)"
   ],
   "outputs": [],
   "metadata": {}
  },
  {
   "cell_type": "markdown",
   "source": [
    "### Weights\n",
    "- Initialize them randomly\n",
    "- HOW MANY and in which SHAPE:\n",
    "    - 3,2 for the input layer\n",
    "    - 3,1 for the output layer\n"
   ],
   "metadata": {}
  },
  {
   "cell_type": "code",
   "execution_count": 25,
   "source": [
    "weights_h = np.random.normal(size = (3,2))\n",
    "weights_o = np.random.normal(size = (3,1))"
   ],
   "outputs": [],
   "metadata": {}
  },
  {
   "cell_type": "code",
   "execution_count": 26,
   "source": [
    "weights_h"
   ],
   "outputs": [
    {
     "output_type": "execute_result",
     "data": {
      "text/plain": [
       "array([[ 0.00866754, -0.99841535],\n",
       "       [ 0.96786773,  1.44583883],\n",
       "       [ 0.6829611 ,  1.0567854 ]])"
      ]
     },
     "metadata": {},
     "execution_count": 26
    }
   ],
   "metadata": {}
  },
  {
   "cell_type": "code",
   "execution_count": 27,
   "source": [
    "weights_o"
   ],
   "outputs": [
    {
     "output_type": "execute_result",
     "data": {
      "text/plain": [
       "array([[ 0.50347316],\n",
       "       [-0.87280897],\n",
       "       [ 1.15804243]])"
      ]
     },
     "metadata": {},
     "execution_count": 27
    }
   ],
   "metadata": {}
  },
  {
   "cell_type": "markdown",
   "source": [
    "#### Check the shapes"
   ],
   "metadata": {}
  },
  {
   "cell_type": "code",
   "execution_count": 28,
   "source": [
    "weights_h.shape"
   ],
   "outputs": [
    {
     "output_type": "execute_result",
     "data": {
      "text/plain": [
       "(3, 2)"
      ]
     },
     "metadata": {},
     "execution_count": 28
    }
   ],
   "metadata": {}
  },
  {
   "cell_type": "code",
   "execution_count": 29,
   "source": [
    "weights_o.shape"
   ],
   "outputs": [
    {
     "output_type": "execute_result",
     "data": {
      "text/plain": [
       "(3, 1)"
      ]
     },
     "metadata": {},
     "execution_count": 29
    }
   ],
   "metadata": {}
  },
  {
   "cell_type": "markdown",
   "source": [
    "#### Check that the dot product works"
   ],
   "metadata": {}
  },
  {
   "cell_type": "markdown",
   "source": [
    "<img src=\"FeedForward.png\" alt=\"drawing\" width=\"600\"/>"
   ],
   "metadata": {}
  },
  {
   "cell_type": "code",
   "execution_count": 30,
   "source": [
    "X.shape, weights_h.shape"
   ],
   "outputs": [
    {
     "output_type": "execute_result",
     "data": {
      "text/plain": [
       "((50, 3), (3, 2))"
      ]
     },
     "metadata": {},
     "execution_count": 30
    }
   ],
   "metadata": {}
  },
  {
   "cell_type": "code",
   "execution_count": 40,
   "source": [
    "output = sigmoid(np.dot(add_bias(sigmoid(np.dot(X, weights_h))),weights_o))"
   ],
   "outputs": [
    {
     "output_type": "execute_result",
     "data": {
      "text/plain": [
       "array([[0.50658174],\n",
       "       [0.51713701],\n",
       "       [0.51350113],\n",
       "       [0.4757674 ],\n",
       "       [0.53704641],\n",
       "       [0.46052314],\n",
       "       [0.52768756],\n",
       "       [0.53727709],\n",
       "       [0.52658964],\n",
       "       [0.54484069],\n",
       "       [0.49739037],\n",
       "       [0.48326097],\n",
       "       [0.49492819],\n",
       "       [0.48687641],\n",
       "       [0.50372293],\n",
       "       [0.50832301],\n",
       "       [0.49803203],\n",
       "       [0.46387313],\n",
       "       [0.46443944],\n",
       "       [0.522242  ],\n",
       "       [0.48948201],\n",
       "       [0.50428288],\n",
       "       [0.56572867],\n",
       "       [0.525115  ],\n",
       "       [0.52244937],\n",
       "       [0.51108489],\n",
       "       [0.48661972],\n",
       "       [0.52391047],\n",
       "       [0.51818071],\n",
       "       [0.4908103 ],\n",
       "       [0.50832312],\n",
       "       [0.4829725 ],\n",
       "       [0.51298659],\n",
       "       [0.50272427],\n",
       "       [0.55745538],\n",
       "       [0.48929723],\n",
       "       [0.49216721],\n",
       "       [0.52101548],\n",
       "       [0.55921684],\n",
       "       [0.51074683],\n",
       "       [0.48482742],\n",
       "       [0.55397499],\n",
       "       [0.54001806],\n",
       "       [0.46647813],\n",
       "       [0.54830301],\n",
       "       [0.49877127],\n",
       "       [0.47916437],\n",
       "       [0.51379433],\n",
       "       [0.52792727],\n",
       "       [0.4974802 ]])"
      ]
     },
     "metadata": {},
     "execution_count": 40
    }
   ],
   "metadata": {}
  },
  {
   "cell_type": "code",
   "execution_count": 31,
   "source": [
    "def feed_forward(X, weights_h, weights_o):\n",
    "\n",
    "    \"\"\"\n",
    "    1. Calculate the dot product of X\n",
    "       and the weights of the first layer.\n",
    "\n",
    "    2. Apply the sigmoid function on the result.\n",
    "\n",
    "    3. Append an extra column of ones to the result (i.e. the bias).\n",
    "\n",
    "    4. Calculate the dot product of the previous step\n",
    "       with the weights of the second (i.e. outer) layer.\n",
    "\n",
    "    5. Apply the sigmoid function on the result.\n",
    "\n",
    "    6. Return all intermediate results (i.e. anything that is outputted\n",
    "       by an activation function).\n",
    "    \"\"\"\n",
    "    # 1. H_in\n",
    "    weighted_sum = np.dot(X, weights_h)\n",
    "    print(f'Shape of H_in = {weighted_sum.shape}')\n",
    "    #print('H_in')\n",
    "    #print(weighted_sum)\n",
    "    \n",
    "    # 2. H_out\n",
    "    output_1 = sigmoid(weighted_sum)\n",
    "    #print('H_out')\n",
    "    #print(output_1)\n",
    "    \n",
    "    # 3. add bias\n",
    "    input_out = add_bias(output_1)\n",
    "    #print('H_out with bias')\n",
    "    #print(input_out)\n",
    "    \n",
    "    # 4. O_in\n",
    "    print(f'Shape of H_in = {weighted_sum.shape}')\n",
    "    weighted_sum = np.dot(input_out, weights_o)\n",
    "    #print('O_in')\n",
    "    #print(weighted_sum)\n",
    "    \n",
    "    # 5. O_out -> actual prediction\n",
    "    output_2 = sigmoid(weighted_sum)\n",
    "    #print('O_out')\n",
    "    #print(output_2)      \n",
    "    \n",
    "    # 6.\n",
    "    return output_1, output_2"
   ],
   "outputs": [],
   "metadata": {}
  },
  {
   "cell_type": "markdown",
   "source": [
    "### Assertion Test for `weights` shapes"
   ],
   "metadata": {}
  },
  {
   "cell_type": "code",
   "execution_count": 32,
   "source": [
    "weights_h.shape"
   ],
   "outputs": [
    {
     "output_type": "execute_result",
     "data": {
      "text/plain": [
       "(3, 2)"
      ]
     },
     "metadata": {},
     "execution_count": 32
    }
   ],
   "metadata": {}
  },
  {
   "cell_type": "code",
   "execution_count": 33,
   "source": [
    "out1, out2 = feed_forward(X, weights_h, weights_o)"
   ],
   "outputs": [
    {
     "output_type": "stream",
     "name": "stdout",
     "text": [
      "Shape of H_in = (50, 2)\n",
      "Shape of H_in = (50, 2)\n"
     ]
    }
   ],
   "metadata": {}
  },
  {
   "cell_type": "code",
   "execution_count": 34,
   "source": [
    "out1, out2 = feed_forward(X, weights_h, weights_o)\n",
    "assert out1.shape == (50, 2)\n",
    "assert out2.shape == (50, 1)"
   ],
   "outputs": [
    {
     "output_type": "stream",
     "name": "stdout",
     "text": [
      "Shape of H_in = (50, 2)\n",
      "Shape of H_in = (50, 2)\n"
     ]
    }
   ],
   "metadata": {
    "scrolled": true
   }
  },
  {
   "cell_type": "markdown",
   "source": [
    "#### Plot result"
   ],
   "metadata": {}
  },
  {
   "cell_type": "code",
   "execution_count": 35,
   "source": [
    "plt.scatter(X[:,0], X[:,1], c = y)\n",
    "plt.colorbar()"
   ],
   "outputs": [
    {
     "output_type": "execute_result",
     "data": {
      "text/plain": [
       "<matplotlib.colorbar.Colorbar at 0x7fddcaf041f0>"
      ]
     },
     "metadata": {},
     "execution_count": 35
    },
    {
     "output_type": "display_data",
     "data": {
      "text/plain": [
       "<Figure size 432x288 with 2 Axes>"
      ],
      "image/svg+xml": "<?xml version=\"1.0\" encoding=\"utf-8\" standalone=\"no\"?>\n<!DOCTYPE svg PUBLIC \"-//W3C//DTD SVG 1.1//EN\"\n  \"http://www.w3.org/Graphics/SVG/1.1/DTD/svg11.dtd\">\n<!-- Created with matplotlib (https://matplotlib.org/) -->\n<svg height=\"252.317344pt\" version=\"1.1\" viewBox=\"0 0 364.037937 252.317344\" width=\"364.037937pt\" xmlns=\"http://www.w3.org/2000/svg\" xmlns:xlink=\"http://www.w3.org/1999/xlink\">\n <metadata>\n  <rdf:RDF xmlns:cc=\"http://creativecommons.org/ns#\" xmlns:dc=\"http://purl.org/dc/elements/1.1/\" xmlns:rdf=\"http://www.w3.org/1999/02/22-rdf-syntax-ns#\">\n   <cc:Work>\n    <dc:type rdf:resource=\"http://purl.org/dc/dcmitype/StillImage\"/>\n    <dc:date>2022-05-06T19:17:23.492956</dc:date>\n    <dc:format>image/svg+xml</dc:format>\n    <dc:creator>\n     <cc:Agent>\n      <dc:title>Matplotlib v3.3.4, https://matplotlib.org/</dc:title>\n     </cc:Agent>\n    </dc:creator>\n   </cc:Work>\n  </rdf:RDF>\n </metadata>\n <defs>\n  <style type=\"text/css\">*{stroke-linecap:butt;stroke-linejoin:round;}</style>\n </defs>\n <g id=\"figure_1\">\n  <g id=\"patch_1\">\n   <path d=\"M -0 252.317344 \nL 364.037937 252.317344 \nL 364.037937 0 \nL -0 0 \nz\n\" style=\"fill:none;\"/>\n  </g>\n  <g id=\"axes_1\">\n   <g id=\"patch_2\">\n    <path d=\"M 38.482813 228.439219 \nL 306.322813 228.439219 \nL 306.322813 10.999219 \nL 38.482813 10.999219 \nz\n\" style=\"fill:#ffffff;\"/>\n   </g>\n   <g id=\"PathCollection_1\">\n    <defs>\n     <path d=\"M 0 3 \nC 0.795609 3 1.55874 2.683901 2.12132 2.12132 \nC 2.683901 1.55874 3 0.795609 3 -0 \nC 3 -0.795609 2.683901 -1.55874 2.12132 -2.12132 \nC 1.55874 -2.683901 0.795609 -3 0 -3 \nC -0.795609 -3 -1.55874 -2.683901 -2.12132 -2.12132 \nC -2.683901 -1.55874 -3 -0.795609 -3 0 \nC -3 0.795609 -2.683901 1.55874 -2.12132 2.12132 \nC -1.55874 2.683901 -0.795609 3 0 3 \nz\n\" id=\"C0_0_fb2d5ddffa\"/>\n    </defs>\n    <g clip-path=\"url(#pac76cdaaae)\">\n     <use style=\"fill:#440154;stroke:#440154;\" x=\"129.464596\" xlink:href=\"#C0_0_fb2d5ddffa\" y=\"72.643318\"/>\n    </g>\n    <g clip-path=\"url(#pac76cdaaae)\">\n     <use style=\"fill:#fde725;stroke:#fde725;\" x=\"223.544927\" xlink:href=\"#C0_0_fb2d5ddffa\" y=\"218.555582\"/>\n    </g>\n    <g clip-path=\"url(#pac76cdaaae)\">\n     <use style=\"fill:#fde725;stroke:#fde725;\" x=\"170.656036\" xlink:href=\"#C0_0_fb2d5ddffa\" y=\"143.255392\"/>\n    </g>\n    <g clip-path=\"url(#pac76cdaaae)\">\n     <use style=\"fill:#fde725;stroke:#fde725;\" x=\"274.266493\" xlink:href=\"#C0_0_fb2d5ddffa\" y=\"155.271996\"/>\n    </g>\n    <g clip-path=\"url(#pac76cdaaae)\">\n     <use style=\"fill:#440154;stroke:#440154;\" x=\"78.339587\" xlink:href=\"#C0_0_fb2d5ddffa\" y=\"97.464189\"/>\n    </g>\n    <g clip-path=\"url(#pac76cdaaae)\">\n     <use style=\"fill:#fde725;stroke:#fde725;\" x=\"282.408912\" xlink:href=\"#C0_0_fb2d5ddffa\" y=\"100.845007\"/>\n    </g>\n    <g clip-path=\"url(#pac76cdaaae)\">\n     <use style=\"fill:#fde725;stroke:#fde725;\" x=\"146.66341\" xlink:href=\"#C0_0_fb2d5ddffa\" y=\"153.847988\"/>\n    </g>\n    <g clip-path=\"url(#pac76cdaaae)\">\n     <use style=\"fill:#fde725;stroke:#fde725;\" x=\"108.898238\" xlink:href=\"#C0_0_fb2d5ddffa\" y=\"135.642631\"/>\n    </g>\n    <g clip-path=\"url(#pac76cdaaae)\">\n     <use style=\"fill:#fde725;stroke:#fde725;\" x=\"172.835314\" xlink:href=\"#C0_0_fb2d5ddffa\" y=\"182.850806\"/>\n    </g>\n    <g clip-path=\"url(#pac76cdaaae)\">\n     <use style=\"fill:#440154;stroke:#440154;\" x=\"93.422118\" xlink:href=\"#C0_0_fb2d5ddffa\" y=\"140.163847\"/>\n    </g>\n    <g clip-path=\"url(#pac76cdaaae)\">\n     <use style=\"fill:#440154;stroke:#440154;\" x=\"149.612778\" xlink:href=\"#C0_0_fb2d5ddffa\" y=\"70.799991\"/>\n    </g>\n    <g clip-path=\"url(#pac76cdaaae)\">\n     <use style=\"fill:#440154;stroke:#440154;\" x=\"212.535036\" xlink:href=\"#C0_0_fb2d5ddffa\" y=\"104.703888\"/>\n    </g>\n    <g clip-path=\"url(#pac76cdaaae)\">\n     <use style=\"fill:#fde725;stroke:#fde725;\" x=\"250.200995\" xlink:href=\"#C0_0_fb2d5ddffa\" y=\"188.054478\"/>\n    </g>\n    <g clip-path=\"url(#pac76cdaaae)\">\n     <use style=\"fill:#440154;stroke:#440154;\" x=\"179.775403\" xlink:href=\"#C0_0_fb2d5ddffa\" y=\"75.818815\"/>\n    </g>\n    <g clip-path=\"url(#pac76cdaaae)\">\n     <use style=\"fill:#440154;stroke:#440154;\" x=\"195.657962\" xlink:href=\"#C0_0_fb2d5ddffa\" y=\"146.370851\"/>\n    </g>\n    <g clip-path=\"url(#pac76cdaaae)\">\n     <use style=\"fill:#440154;stroke:#440154;\" x=\"165.872966\" xlink:href=\"#C0_0_fb2d5ddffa\" y=\"122.69647\"/>\n    </g>\n    <g clip-path=\"url(#pac76cdaaae)\">\n     <use style=\"fill:#fde725;stroke:#fde725;\" x=\"262.010397\" xlink:href=\"#C0_0_fb2d5ddffa\" y=\"211.812926\"/>\n    </g>\n    <g clip-path=\"url(#pac76cdaaae)\">\n     <use style=\"fill:#fde725;stroke:#fde725;\" x=\"291.092113\" xlink:href=\"#C0_0_fb2d5ddffa\" y=\"127.755916\"/>\n    </g>\n    <g clip-path=\"url(#pac76cdaaae)\">\n     <use style=\"fill:#fde725;stroke:#fde725;\" x=\"290.287202\" xlink:href=\"#C0_0_fb2d5ddffa\" y=\"129.341735\"/>\n    </g>\n    <g clip-path=\"url(#pac76cdaaae)\">\n     <use style=\"fill:#440154;stroke:#440154;\" x=\"99.525366\" xlink:href=\"#C0_0_fb2d5ddffa\" y=\"80.21177\"/>\n    </g>\n    <g clip-path=\"url(#pac76cdaaae)\">\n     <use style=\"fill:#440154;stroke:#440154;\" x=\"191.442051\" xlink:href=\"#C0_0_fb2d5ddffa\" y=\"98.594412\"/>\n    </g>\n    <g clip-path=\"url(#pac76cdaaae)\">\n     <use style=\"fill:#440154;stroke:#440154;\" x=\"118.225412\" xlink:href=\"#C0_0_fb2d5ddffa\" y=\"52.06797\"/>\n    </g>\n    <g clip-path=\"url(#pac76cdaaae)\">\n     <use style=\"fill:#440154;stroke:#440154;\" x=\"73.809898\" xlink:href=\"#C0_0_fb2d5ddffa\" y=\"192.691829\"/>\n    </g>\n    <g clip-path=\"url(#pac76cdaaae)\">\n     <use style=\"fill:#fde725;stroke:#fde725;\" x=\"191.903254\" xlink:href=\"#C0_0_fb2d5ddffa\" y=\"202.06979\"/>\n    </g>\n    <g clip-path=\"url(#pac76cdaaae)\">\n     <use style=\"fill:#fde725;stroke:#fde725;\" x=\"169.91657\" xlink:href=\"#C0_0_fb2d5ddffa\" y=\"167.533797\"/>\n    </g>\n    <g clip-path=\"url(#pac76cdaaae)\">\n     <use style=\"fill:#440154;stroke:#440154;\" x=\"203.880562\" xlink:href=\"#C0_0_fb2d5ddffa\" y=\"177.425056\"/>\n    </g>\n    <g clip-path=\"url(#pac76cdaaae)\">\n     <use style=\"fill:#fde725;stroke:#fde725;\" x=\"272.103354\" xlink:href=\"#C0_0_fb2d5ddffa\" y=\"189.514138\"/>\n    </g>\n    <g clip-path=\"url(#pac76cdaaae)\">\n     <use style=\"fill:#fde725;stroke:#fde725;\" x=\"145.996677\" xlink:href=\"#C0_0_fb2d5ddffa\" y=\"142.248252\"/>\n    </g>\n    <g clip-path=\"url(#pac76cdaaae)\">\n     <use style=\"fill:#fde725;stroke:#fde725;\" x=\"217.436696\" xlink:href=\"#C0_0_fb2d5ddffa\" y=\"213.963272\"/>\n    </g>\n    <g clip-path=\"url(#pac76cdaaae)\">\n     <use style=\"fill:#440154;stroke:#440154;\" x=\"188.508258\" xlink:href=\"#C0_0_fb2d5ddffa\" y=\"99.09851\"/>\n    </g>\n    <g clip-path=\"url(#pac76cdaaae)\">\n     <use style=\"fill:#fde725;stroke:#fde725;\" x=\"164.132057\" xlink:href=\"#C0_0_fb2d5ddffa\" y=\"120.544235\"/>\n    </g>\n    <g clip-path=\"url(#pac76cdaaae)\">\n     <use style=\"fill:#440154;stroke:#440154;\" x=\"175.012431\" xlink:href=\"#C0_0_fb2d5ddffa\" y=\"57.076158\"/>\n    </g>\n    <g clip-path=\"url(#pac76cdaaae)\">\n     <use style=\"fill:#fde725;stroke:#fde725;\" x=\"210.117042\" xlink:href=\"#C0_0_fb2d5ddffa\" y=\"190.44478\"/>\n    </g>\n    <g clip-path=\"url(#pac76cdaaae)\">\n     <use style=\"fill:#440154;stroke:#440154;\" x=\"205.759895\" xlink:href=\"#C0_0_fb2d5ddffa\" y=\"155.982289\"/>\n    </g>\n    <g clip-path=\"url(#pac76cdaaae)\">\n     <use style=\"fill:#440154;stroke:#440154;\" x=\"50.657358\" xlink:href=\"#C0_0_fb2d5ddffa\" y=\"131.492254\"/>\n    </g>\n    <g clip-path=\"url(#pac76cdaaae)\">\n     <use style=\"fill:#440154;stroke:#440154;\" x=\"227.215171\" xlink:href=\"#C0_0_fb2d5ddffa\" y=\"142.395049\"/>\n    </g>\n    <g clip-path=\"url(#pac76cdaaae)\">\n     <use style=\"fill:#fde725;stroke:#fde725;\" x=\"256.446596\" xlink:href=\"#C0_0_fb2d5ddffa\" y=\"187.442224\"/>\n    </g>\n    <g clip-path=\"url(#pac76cdaaae)\">\n     <use style=\"fill:#fde725;stroke:#fde725;\" x=\"206.993233\" xlink:href=\"#C0_0_fb2d5ddffa\" y=\"209.061573\"/>\n    </g>\n    <g clip-path=\"url(#pac76cdaaae)\">\n     <use style=\"fill:#440154;stroke:#440154;\" x=\"80.264315\" xlink:href=\"#C0_0_fb2d5ddffa\" y=\"174.060607\"/>\n    </g>\n    <g clip-path=\"url(#pac76cdaaae)\">\n     <use style=\"fill:#fde725;stroke:#fde725;\" x=\"230.938707\" xlink:href=\"#C0_0_fb2d5ddffa\" y=\"209.799979\"/>\n    </g>\n    <g clip-path=\"url(#pac76cdaaae)\">\n     <use style=\"fill:#440154;stroke:#440154;\" x=\"140.998419\" xlink:href=\"#C0_0_fb2d5ddffa\" y=\"20.882855\"/>\n    </g>\n    <g clip-path=\"url(#pac76cdaaae)\">\n     <use style=\"fill:#440154;stroke:#440154;\" x=\"53.268846\" xlink:href=\"#C0_0_fb2d5ddffa\" y=\"121.965681\"/>\n    </g>\n    <g clip-path=\"url(#pac76cdaaae)\">\n     <use style=\"fill:#440154;stroke:#440154;\" x=\"78.864638\" xlink:href=\"#C0_0_fb2d5ddffa\" y=\"107.200737\"/>\n    </g>\n    <g clip-path=\"url(#pac76cdaaae)\">\n     <use style=\"fill:#fde725;stroke:#fde725;\" x=\"294.148267\" xlink:href=\"#C0_0_fb2d5ddffa\" y=\"143.17474\"/>\n    </g>\n    <g clip-path=\"url(#pac76cdaaae)\">\n     <use style=\"fill:#440154;stroke:#440154;\" x=\"67.118887\" xlink:href=\"#C0_0_fb2d5ddffa\" y=\"119.339789\"/>\n    </g>\n    <g clip-path=\"url(#pac76cdaaae)\">\n     <use style=\"fill:#440154;stroke:#440154;\" x=\"173.858129\" xlink:href=\"#C0_0_fb2d5ddffa\" y=\"104.974807\"/>\n    </g>\n    <g clip-path=\"url(#pac76cdaaae)\">\n     <use style=\"fill:#fde725;stroke:#fde725;\" x=\"276.768893\" xlink:href=\"#C0_0_fb2d5ddffa\" y=\"170.483423\"/>\n    </g>\n    <g clip-path=\"url(#pac76cdaaae)\">\n     <use style=\"fill:#440154;stroke:#440154;\" x=\"115.466378\" xlink:href=\"#C0_0_fb2d5ddffa\" y=\"75.887213\"/>\n    </g>\n    <g clip-path=\"url(#pac76cdaaae)\">\n     <use style=\"fill:#fde725;stroke:#fde725;\" x=\"165.245967\" xlink:href=\"#C0_0_fb2d5ddffa\" y=\"177.352386\"/>\n    </g>\n    <g clip-path=\"url(#pac76cdaaae)\">\n     <use style=\"fill:#fde725;stroke:#fde725;\" x=\"230.160003\" xlink:href=\"#C0_0_fb2d5ddffa\" y=\"170.862613\"/>\n    </g>\n   </g>\n   <g id=\"matplotlib.axis_1\">\n    <g id=\"xtick_1\">\n     <g id=\"line2d_1\">\n      <defs>\n       <path d=\"M 0 0 \nL 0 3.5 \n\" id=\"mb5e4a82ec2\" style=\"stroke:#000000;stroke-width:0.8;\"/>\n      </defs>\n      <g>\n       <use style=\"stroke:#000000;stroke-width:0.8;\" x=\"67.012979\" xlink:href=\"#mb5e4a82ec2\" y=\"228.439219\"/>\n      </g>\n     </g>\n     <g id=\"text_1\">\n      <!-- −1.0 -->\n      <g transform=\"translate(54.871573 243.037656)scale(0.1 -0.1)\">\n       <defs>\n        <path d=\"M 10.59375 35.5 \nL 73.1875 35.5 \nL 73.1875 27.203125 \nL 10.59375 27.203125 \nz\n\" id=\"DejaVuSans-8722\"/>\n        <path d=\"M 12.40625 8.296875 \nL 28.515625 8.296875 \nL 28.515625 63.921875 \nL 10.984375 60.40625 \nL 10.984375 69.390625 \nL 28.421875 72.90625 \nL 38.28125 72.90625 \nL 38.28125 8.296875 \nL 54.390625 8.296875 \nL 54.390625 0 \nL 12.40625 0 \nz\n\" id=\"DejaVuSans-49\"/>\n        <path d=\"M 10.6875 12.40625 \nL 21 12.40625 \nL 21 0 \nL 10.6875 0 \nz\n\" id=\"DejaVuSans-46\"/>\n        <path d=\"M 31.78125 66.40625 \nQ 24.171875 66.40625 20.328125 58.90625 \nQ 16.5 51.421875 16.5 36.375 \nQ 16.5 21.390625 20.328125 13.890625 \nQ 24.171875 6.390625 31.78125 6.390625 \nQ 39.453125 6.390625 43.28125 13.890625 \nQ 47.125 21.390625 47.125 36.375 \nQ 47.125 51.421875 43.28125 58.90625 \nQ 39.453125 66.40625 31.78125 66.40625 \nz\nM 31.78125 74.21875 \nQ 44.046875 74.21875 50.515625 64.515625 \nQ 56.984375 54.828125 56.984375 36.375 \nQ 56.984375 17.96875 50.515625 8.265625 \nQ 44.046875 -1.421875 31.78125 -1.421875 \nQ 19.53125 -1.421875 13.0625 8.265625 \nQ 6.59375 17.96875 6.59375 36.375 \nQ 6.59375 54.828125 13.0625 64.515625 \nQ 19.53125 74.21875 31.78125 74.21875 \nz\n\" id=\"DejaVuSans-48\"/>\n       </defs>\n       <use xlink:href=\"#DejaVuSans-8722\"/>\n       <use x=\"83.789062\" xlink:href=\"#DejaVuSans-49\"/>\n       <use x=\"147.412109\" xlink:href=\"#DejaVuSans-46\"/>\n       <use x=\"179.199219\" xlink:href=\"#DejaVuSans-48\"/>\n      </g>\n     </g>\n    </g>\n    <g id=\"xtick_2\">\n     <g id=\"line2d_2\">\n      <g>\n       <use style=\"stroke:#000000;stroke-width:0.8;\" x=\"104.12338\" xlink:href=\"#mb5e4a82ec2\" y=\"228.439219\"/>\n      </g>\n     </g>\n     <g id=\"text_2\">\n      <!-- −0.5 -->\n      <g transform=\"translate(91.981973 243.037656)scale(0.1 -0.1)\">\n       <defs>\n        <path d=\"M 10.796875 72.90625 \nL 49.515625 72.90625 \nL 49.515625 64.59375 \nL 19.828125 64.59375 \nL 19.828125 46.734375 \nQ 21.96875 47.46875 24.109375 47.828125 \nQ 26.265625 48.1875 28.421875 48.1875 \nQ 40.625 48.1875 47.75 41.5 \nQ 54.890625 34.8125 54.890625 23.390625 \nQ 54.890625 11.625 47.5625 5.09375 \nQ 40.234375 -1.421875 26.90625 -1.421875 \nQ 22.3125 -1.421875 17.546875 -0.640625 \nQ 12.796875 0.140625 7.71875 1.703125 \nL 7.71875 11.625 \nQ 12.109375 9.234375 16.796875 8.0625 \nQ 21.484375 6.890625 26.703125 6.890625 \nQ 35.15625 6.890625 40.078125 11.328125 \nQ 45.015625 15.765625 45.015625 23.390625 \nQ 45.015625 31 40.078125 35.4375 \nQ 35.15625 39.890625 26.703125 39.890625 \nQ 22.75 39.890625 18.8125 39.015625 \nQ 14.890625 38.140625 10.796875 36.28125 \nz\n\" id=\"DejaVuSans-53\"/>\n       </defs>\n       <use xlink:href=\"#DejaVuSans-8722\"/>\n       <use x=\"83.789062\" xlink:href=\"#DejaVuSans-48\"/>\n       <use x=\"147.412109\" xlink:href=\"#DejaVuSans-46\"/>\n       <use x=\"179.199219\" xlink:href=\"#DejaVuSans-53\"/>\n      </g>\n     </g>\n    </g>\n    <g id=\"xtick_3\">\n     <g id=\"line2d_3\">\n      <g>\n       <use style=\"stroke:#000000;stroke-width:0.8;\" x=\"141.23378\" xlink:href=\"#mb5e4a82ec2\" y=\"228.439219\"/>\n      </g>\n     </g>\n     <g id=\"text_3\">\n      <!-- 0.0 -->\n      <g transform=\"translate(133.282218 243.037656)scale(0.1 -0.1)\">\n       <use xlink:href=\"#DejaVuSans-48\"/>\n       <use x=\"63.623047\" xlink:href=\"#DejaVuSans-46\"/>\n       <use x=\"95.410156\" xlink:href=\"#DejaVuSans-48\"/>\n      </g>\n     </g>\n    </g>\n    <g id=\"xtick_4\">\n     <g id=\"line2d_4\">\n      <g>\n       <use style=\"stroke:#000000;stroke-width:0.8;\" x=\"178.344181\" xlink:href=\"#mb5e4a82ec2\" y=\"228.439219\"/>\n      </g>\n     </g>\n     <g id=\"text_4\">\n      <!-- 0.5 -->\n      <g transform=\"translate(170.392619 243.037656)scale(0.1 -0.1)\">\n       <use xlink:href=\"#DejaVuSans-48\"/>\n       <use x=\"63.623047\" xlink:href=\"#DejaVuSans-46\"/>\n       <use x=\"95.410156\" xlink:href=\"#DejaVuSans-53\"/>\n      </g>\n     </g>\n    </g>\n    <g id=\"xtick_5\">\n     <g id=\"line2d_5\">\n      <g>\n       <use style=\"stroke:#000000;stroke-width:0.8;\" x=\"215.454582\" xlink:href=\"#mb5e4a82ec2\" y=\"228.439219\"/>\n      </g>\n     </g>\n     <g id=\"text_5\">\n      <!-- 1.0 -->\n      <g transform=\"translate(207.503019 243.037656)scale(0.1 -0.1)\">\n       <use xlink:href=\"#DejaVuSans-49\"/>\n       <use x=\"63.623047\" xlink:href=\"#DejaVuSans-46\"/>\n       <use x=\"95.410156\" xlink:href=\"#DejaVuSans-48\"/>\n      </g>\n     </g>\n    </g>\n    <g id=\"xtick_6\">\n     <g id=\"line2d_6\">\n      <g>\n       <use style=\"stroke:#000000;stroke-width:0.8;\" x=\"252.564982\" xlink:href=\"#mb5e4a82ec2\" y=\"228.439219\"/>\n      </g>\n     </g>\n     <g id=\"text_6\">\n      <!-- 1.5 -->\n      <g transform=\"translate(244.61342 243.037656)scale(0.1 -0.1)\">\n       <use xlink:href=\"#DejaVuSans-49\"/>\n       <use x=\"63.623047\" xlink:href=\"#DejaVuSans-46\"/>\n       <use x=\"95.410156\" xlink:href=\"#DejaVuSans-53\"/>\n      </g>\n     </g>\n    </g>\n    <g id=\"xtick_7\">\n     <g id=\"line2d_7\">\n      <g>\n       <use style=\"stroke:#000000;stroke-width:0.8;\" x=\"289.675383\" xlink:href=\"#mb5e4a82ec2\" y=\"228.439219\"/>\n      </g>\n     </g>\n     <g id=\"text_7\">\n      <!-- 2.0 -->\n      <g transform=\"translate(281.723821 243.037656)scale(0.1 -0.1)\">\n       <defs>\n        <path d=\"M 19.1875 8.296875 \nL 53.609375 8.296875 \nL 53.609375 0 \nL 7.328125 0 \nL 7.328125 8.296875 \nQ 12.9375 14.109375 22.625 23.890625 \nQ 32.328125 33.6875 34.8125 36.53125 \nQ 39.546875 41.84375 41.421875 45.53125 \nQ 43.3125 49.21875 43.3125 52.78125 \nQ 43.3125 58.59375 39.234375 62.25 \nQ 35.15625 65.921875 28.609375 65.921875 \nQ 23.96875 65.921875 18.8125 64.3125 \nQ 13.671875 62.703125 7.8125 59.421875 \nL 7.8125 69.390625 \nQ 13.765625 71.78125 18.9375 73 \nQ 24.125 74.21875 28.421875 74.21875 \nQ 39.75 74.21875 46.484375 68.546875 \nQ 53.21875 62.890625 53.21875 53.421875 \nQ 53.21875 48.921875 51.53125 44.890625 \nQ 49.859375 40.875 45.40625 35.40625 \nQ 44.1875 33.984375 37.640625 27.21875 \nQ 31.109375 20.453125 19.1875 8.296875 \nz\n\" id=\"DejaVuSans-50\"/>\n       </defs>\n       <use xlink:href=\"#DejaVuSans-50\"/>\n       <use x=\"63.623047\" xlink:href=\"#DejaVuSans-46\"/>\n       <use x=\"95.410156\" xlink:href=\"#DejaVuSans-48\"/>\n      </g>\n     </g>\n    </g>\n   </g>\n   <g id=\"matplotlib.axis_2\">\n    <g id=\"ytick_1\">\n     <g id=\"line2d_8\">\n      <defs>\n       <path d=\"M 0 0 \nL -3.5 0 \n\" id=\"m10e6a281ce\" style=\"stroke:#000000;stroke-width:0.8;\"/>\n      </defs>\n      <g>\n       <use style=\"stroke:#000000;stroke-width:0.8;\" x=\"38.482813\" xlink:href=\"#m10e6a281ce\" y=\"207.510286\"/>\n      </g>\n     </g>\n     <g id=\"text_8\">\n      <!-- −0.5 -->\n      <g transform=\"translate(7.2 211.309505)scale(0.1 -0.1)\">\n       <use xlink:href=\"#DejaVuSans-8722\"/>\n       <use x=\"83.789062\" xlink:href=\"#DejaVuSans-48\"/>\n       <use x=\"147.412109\" xlink:href=\"#DejaVuSans-46\"/>\n       <use x=\"179.199219\" xlink:href=\"#DejaVuSans-53\"/>\n      </g>\n     </g>\n    </g>\n    <g id=\"ytick_2\">\n     <g id=\"line2d_9\">\n      <g>\n       <use style=\"stroke:#000000;stroke-width:0.8;\" x=\"38.482813\" xlink:href=\"#m10e6a281ce\" y=\"162.094605\"/>\n      </g>\n     </g>\n     <g id=\"text_9\">\n      <!-- 0.0 -->\n      <g transform=\"translate(15.579688 165.893824)scale(0.1 -0.1)\">\n       <use xlink:href=\"#DejaVuSans-48\"/>\n       <use x=\"63.623047\" xlink:href=\"#DejaVuSans-46\"/>\n       <use x=\"95.410156\" xlink:href=\"#DejaVuSans-48\"/>\n      </g>\n     </g>\n    </g>\n    <g id=\"ytick_3\">\n     <g id=\"line2d_10\">\n      <g>\n       <use style=\"stroke:#000000;stroke-width:0.8;\" x=\"38.482813\" xlink:href=\"#m10e6a281ce\" y=\"116.678924\"/>\n      </g>\n     </g>\n     <g id=\"text_10\">\n      <!-- 0.5 -->\n      <g transform=\"translate(15.579688 120.478143)scale(0.1 -0.1)\">\n       <use xlink:href=\"#DejaVuSans-48\"/>\n       <use x=\"63.623047\" xlink:href=\"#DejaVuSans-46\"/>\n       <use x=\"95.410156\" xlink:href=\"#DejaVuSans-53\"/>\n      </g>\n     </g>\n    </g>\n    <g id=\"ytick_4\">\n     <g id=\"line2d_11\">\n      <g>\n       <use style=\"stroke:#000000;stroke-width:0.8;\" x=\"38.482813\" xlink:href=\"#m10e6a281ce\" y=\"71.263243\"/>\n      </g>\n     </g>\n     <g id=\"text_11\">\n      <!-- 1.0 -->\n      <g transform=\"translate(15.579688 75.062462)scale(0.1 -0.1)\">\n       <use xlink:href=\"#DejaVuSans-49\"/>\n       <use x=\"63.623047\" xlink:href=\"#DejaVuSans-46\"/>\n       <use x=\"95.410156\" xlink:href=\"#DejaVuSans-48\"/>\n      </g>\n     </g>\n    </g>\n    <g id=\"ytick_5\">\n     <g id=\"line2d_12\">\n      <g>\n       <use style=\"stroke:#000000;stroke-width:0.8;\" x=\"38.482813\" xlink:href=\"#m10e6a281ce\" y=\"25.847562\"/>\n      </g>\n     </g>\n     <g id=\"text_12\">\n      <!-- 1.5 -->\n      <g transform=\"translate(15.579688 29.646781)scale(0.1 -0.1)\">\n       <use xlink:href=\"#DejaVuSans-49\"/>\n       <use x=\"63.623047\" xlink:href=\"#DejaVuSans-46\"/>\n       <use x=\"95.410156\" xlink:href=\"#DejaVuSans-53\"/>\n      </g>\n     </g>\n    </g>\n   </g>\n   <g id=\"patch_3\">\n    <path d=\"M 38.482813 228.439219 \nL 38.482813 10.999219 \n\" style=\"fill:none;stroke:#000000;stroke-linecap:square;stroke-linejoin:miter;stroke-width:0.8;\"/>\n   </g>\n   <g id=\"patch_4\">\n    <path d=\"M 306.322813 228.439219 \nL 306.322813 10.999219 \n\" style=\"fill:none;stroke:#000000;stroke-linecap:square;stroke-linejoin:miter;stroke-width:0.8;\"/>\n   </g>\n   <g id=\"patch_5\">\n    <path d=\"M 38.482812 228.439219 \nL 306.322812 228.439219 \n\" style=\"fill:none;stroke:#000000;stroke-linecap:square;stroke-linejoin:miter;stroke-width:0.8;\"/>\n   </g>\n   <g id=\"patch_6\">\n    <path d=\"M 38.482812 10.999219 \nL 306.322812 10.999219 \n\" style=\"fill:none;stroke:#000000;stroke-linecap:square;stroke-linejoin:miter;stroke-width:0.8;\"/>\n   </g>\n  </g>\n  <g id=\"axes_2\">\n   <g id=\"patch_7\">\n    <path clip-path=\"url(#p03d3c2813b)\" d=\"M 323.062813 228.439219 \nL 323.062813 227.589844 \nL 323.062813 11.848594 \nL 323.062813 10.999219 \nL 333.934813 10.999219 \nL 333.934813 11.848594 \nL 333.934813 227.589844 \nL 333.934813 228.439219 \nz\n\" style=\"fill:#ffffff;stroke:#ffffff;stroke-linejoin:miter;stroke-width:0.01;\"/>\n   </g>\n   <image height=\"217\" id=\"image392ec64541\" transform=\"scale(1 -1)translate(0 -217)\" width=\"11\" x=\"323\" xlink:href=\"data:image/png;base64,\niVBORw0KGgoAAAANSUhEUgAAAAsAAADZCAYAAAD2WsoCAAABSElEQVR4nN2awQ0CMQwEYztHZdRA/41AaMHzGMl3vK3V7qxD0HHxzs9Zzc+OjO7s2iuyP8yUq4gNoBwJPCPlpSkHosEa1IaHcBZpaDZEdBaNw2y0Z00aomftWJ2a0WB/1gx4NBsooLdIhxxYjwZUBsNwn4nyHWmIdSMbmrJGw9wNS9nkfEN0M7ZuirJHoz+LL3piA92Dmo3n1/14dDcM6NW9on++x6C7Hw3gmAcEnr1SRM4zaICfSG4pXsARyuA5GaTBbMxAl2JAi4bnOZMMezaWha7yB2x4AUUaYHhrNLyAng1GQ/RslbKZMhgusW6LxhVfSRnSsAIWUb6S0CANlrd1xAasG9kY0SDizGgwG1ZAVMpLDKjthnasrgVowIDWPciWn30VeAHbs1S5L7z2i/zdgJSLKYPhIsNI+Qrwug7zTN45SfCQ6g9eiIFo/nbsswAAAABJRU5ErkJggg==\" y=\"-11\"/>\n   <g id=\"matplotlib.axis_3\"/>\n   <g id=\"matplotlib.axis_4\">\n    <g id=\"ytick_6\">\n     <g id=\"line2d_13\">\n      <defs>\n       <path d=\"M 0 0 \nL 3.5 0 \n\" id=\"md615f911f7\" style=\"stroke:#000000;stroke-width:0.8;\"/>\n      </defs>\n      <g>\n       <use style=\"stroke:#000000;stroke-width:0.8;\" x=\"333.934813\" xlink:href=\"#md615f911f7\" y=\"228.439219\"/>\n      </g>\n     </g>\n     <g id=\"text_13\">\n      <!-- 0.0 -->\n      <g transform=\"translate(340.934813 232.238437)scale(0.1 -0.1)\">\n       <use xlink:href=\"#DejaVuSans-48\"/>\n       <use x=\"63.623047\" xlink:href=\"#DejaVuSans-46\"/>\n       <use x=\"95.410156\" xlink:href=\"#DejaVuSans-48\"/>\n      </g>\n     </g>\n    </g>\n    <g id=\"ytick_7\">\n     <g id=\"line2d_14\">\n      <g>\n       <use style=\"stroke:#000000;stroke-width:0.8;\" x=\"333.934813\" xlink:href=\"#md615f911f7\" y=\"184.951219\"/>\n      </g>\n     </g>\n     <g id=\"text_14\">\n      <!-- 0.2 -->\n      <g transform=\"translate(340.934813 188.750437)scale(0.1 -0.1)\">\n       <use xlink:href=\"#DejaVuSans-48\"/>\n       <use x=\"63.623047\" xlink:href=\"#DejaVuSans-46\"/>\n       <use x=\"95.410156\" xlink:href=\"#DejaVuSans-50\"/>\n      </g>\n     </g>\n    </g>\n    <g id=\"ytick_8\">\n     <g id=\"line2d_15\">\n      <g>\n       <use style=\"stroke:#000000;stroke-width:0.8;\" x=\"333.934813\" xlink:href=\"#md615f911f7\" y=\"141.463219\"/>\n      </g>\n     </g>\n     <g id=\"text_15\">\n      <!-- 0.4 -->\n      <g transform=\"translate(340.934813 145.262437)scale(0.1 -0.1)\">\n       <defs>\n        <path d=\"M 37.796875 64.3125 \nL 12.890625 25.390625 \nL 37.796875 25.390625 \nz\nM 35.203125 72.90625 \nL 47.609375 72.90625 \nL 47.609375 25.390625 \nL 58.015625 25.390625 \nL 58.015625 17.1875 \nL 47.609375 17.1875 \nL 47.609375 0 \nL 37.796875 0 \nL 37.796875 17.1875 \nL 4.890625 17.1875 \nL 4.890625 26.703125 \nz\n\" id=\"DejaVuSans-52\"/>\n       </defs>\n       <use xlink:href=\"#DejaVuSans-48\"/>\n       <use x=\"63.623047\" xlink:href=\"#DejaVuSans-46\"/>\n       <use x=\"95.410156\" xlink:href=\"#DejaVuSans-52\"/>\n      </g>\n     </g>\n    </g>\n    <g id=\"ytick_9\">\n     <g id=\"line2d_16\">\n      <g>\n       <use style=\"stroke:#000000;stroke-width:0.8;\" x=\"333.934813\" xlink:href=\"#md615f911f7\" y=\"97.975219\"/>\n      </g>\n     </g>\n     <g id=\"text_16\">\n      <!-- 0.6 -->\n      <g transform=\"translate(340.934813 101.774437)scale(0.1 -0.1)\">\n       <defs>\n        <path d=\"M 33.015625 40.375 \nQ 26.375 40.375 22.484375 35.828125 \nQ 18.609375 31.296875 18.609375 23.390625 \nQ 18.609375 15.53125 22.484375 10.953125 \nQ 26.375 6.390625 33.015625 6.390625 \nQ 39.65625 6.390625 43.53125 10.953125 \nQ 47.40625 15.53125 47.40625 23.390625 \nQ 47.40625 31.296875 43.53125 35.828125 \nQ 39.65625 40.375 33.015625 40.375 \nz\nM 52.59375 71.296875 \nL 52.59375 62.3125 \nQ 48.875 64.0625 45.09375 64.984375 \nQ 41.3125 65.921875 37.59375 65.921875 \nQ 27.828125 65.921875 22.671875 59.328125 \nQ 17.53125 52.734375 16.796875 39.40625 \nQ 19.671875 43.65625 24.015625 45.921875 \nQ 28.375 48.1875 33.59375 48.1875 \nQ 44.578125 48.1875 50.953125 41.515625 \nQ 57.328125 34.859375 57.328125 23.390625 \nQ 57.328125 12.15625 50.6875 5.359375 \nQ 44.046875 -1.421875 33.015625 -1.421875 \nQ 20.359375 -1.421875 13.671875 8.265625 \nQ 6.984375 17.96875 6.984375 36.375 \nQ 6.984375 53.65625 15.1875 63.9375 \nQ 23.390625 74.21875 37.203125 74.21875 \nQ 40.921875 74.21875 44.703125 73.484375 \nQ 48.484375 72.75 52.59375 71.296875 \nz\n\" id=\"DejaVuSans-54\"/>\n       </defs>\n       <use xlink:href=\"#DejaVuSans-48\"/>\n       <use x=\"63.623047\" xlink:href=\"#DejaVuSans-46\"/>\n       <use x=\"95.410156\" xlink:href=\"#DejaVuSans-54\"/>\n      </g>\n     </g>\n    </g>\n    <g id=\"ytick_10\">\n     <g id=\"line2d_17\">\n      <g>\n       <use style=\"stroke:#000000;stroke-width:0.8;\" x=\"333.934813\" xlink:href=\"#md615f911f7\" y=\"54.487219\"/>\n      </g>\n     </g>\n     <g id=\"text_17\">\n      <!-- 0.8 -->\n      <g transform=\"translate(340.934813 58.286437)scale(0.1 -0.1)\">\n       <defs>\n        <path d=\"M 31.78125 34.625 \nQ 24.75 34.625 20.71875 30.859375 \nQ 16.703125 27.09375 16.703125 20.515625 \nQ 16.703125 13.921875 20.71875 10.15625 \nQ 24.75 6.390625 31.78125 6.390625 \nQ 38.8125 6.390625 42.859375 10.171875 \nQ 46.921875 13.96875 46.921875 20.515625 \nQ 46.921875 27.09375 42.890625 30.859375 \nQ 38.875 34.625 31.78125 34.625 \nz\nM 21.921875 38.8125 \nQ 15.578125 40.375 12.03125 44.71875 \nQ 8.5 49.078125 8.5 55.328125 \nQ 8.5 64.0625 14.71875 69.140625 \nQ 20.953125 74.21875 31.78125 74.21875 \nQ 42.671875 74.21875 48.875 69.140625 \nQ 55.078125 64.0625 55.078125 55.328125 \nQ 55.078125 49.078125 51.53125 44.71875 \nQ 48 40.375 41.703125 38.8125 \nQ 48.828125 37.15625 52.796875 32.3125 \nQ 56.78125 27.484375 56.78125 20.515625 \nQ 56.78125 9.90625 50.3125 4.234375 \nQ 43.84375 -1.421875 31.78125 -1.421875 \nQ 19.734375 -1.421875 13.25 4.234375 \nQ 6.78125 9.90625 6.78125 20.515625 \nQ 6.78125 27.484375 10.78125 32.3125 \nQ 14.796875 37.15625 21.921875 38.8125 \nz\nM 18.3125 54.390625 \nQ 18.3125 48.734375 21.84375 45.5625 \nQ 25.390625 42.390625 31.78125 42.390625 \nQ 38.140625 42.390625 41.71875 45.5625 \nQ 45.3125 48.734375 45.3125 54.390625 \nQ 45.3125 60.0625 41.71875 63.234375 \nQ 38.140625 66.40625 31.78125 66.40625 \nQ 25.390625 66.40625 21.84375 63.234375 \nQ 18.3125 60.0625 18.3125 54.390625 \nz\n\" id=\"DejaVuSans-56\"/>\n       </defs>\n       <use xlink:href=\"#DejaVuSans-48\"/>\n       <use x=\"63.623047\" xlink:href=\"#DejaVuSans-46\"/>\n       <use x=\"95.410156\" xlink:href=\"#DejaVuSans-56\"/>\n      </g>\n     </g>\n    </g>\n    <g id=\"ytick_11\">\n     <g id=\"line2d_18\">\n      <g>\n       <use style=\"stroke:#000000;stroke-width:0.8;\" x=\"333.934813\" xlink:href=\"#md615f911f7\" y=\"10.999219\"/>\n      </g>\n     </g>\n     <g id=\"text_18\">\n      <!-- 1.0 -->\n      <g transform=\"translate(340.934813 14.798437)scale(0.1 -0.1)\">\n       <use xlink:href=\"#DejaVuSans-49\"/>\n       <use x=\"63.623047\" xlink:href=\"#DejaVuSans-46\"/>\n       <use x=\"95.410156\" xlink:href=\"#DejaVuSans-48\"/>\n      </g>\n     </g>\n    </g>\n   </g>\n   <g id=\"patch_8\">\n    <path d=\"M 323.062813 228.439219 \nL 323.062813 227.589844 \nL 323.062813 11.848594 \nL 323.062813 10.999219 \nL 333.934813 10.999219 \nL 333.934813 11.848594 \nL 333.934813 227.589844 \nL 333.934813 228.439219 \nz\n\" style=\"fill:none;stroke:#000000;stroke-linejoin:miter;stroke-width:0.8;\"/>\n   </g>\n  </g>\n </g>\n <defs>\n  <clipPath id=\"pac76cdaaae\">\n   <rect height=\"217.44\" width=\"267.84\" x=\"38.482813\" y=\"10.999219\"/>\n  </clipPath>\n  <clipPath id=\"p03d3c2813b\">\n   <rect height=\"217.44\" width=\"10.872\" x=\"323.062813\" y=\"10.999219\"/>\n  </clipPath>\n </defs>\n</svg>\n",
      "image/png": "[encoded data removed]"
     },
     "metadata": {
      "needs_background": "light"
     }
    }
   ],
   "metadata": {}
  },
  {
   "cell_type": "code",
   "execution_count": 36,
   "source": [
    "plt.scatter(X[:,0], X[:,1], c = out2)\n",
    "plt.colorbar()"
   ],
   "outputs": [
    {
     "output_type": "execute_result",
     "data": {
      "text/plain": [
       "<matplotlib.colorbar.Colorbar at 0x7fddcaff30a0>"
      ]
     },
     "metadata": {},
     "execution_count": 36
    },
    {
     "output_type": "display_data",
     "data": {
      "text/plain": [
       "<Figure size 432x288 with 2 Axes>"
      ],
      "image/svg+xml": "<?xml version=\"1.0\" encoding=\"utf-8\" standalone=\"no\"?>\n<!DOCTYPE svg PUBLIC \"-//W3C//DTD SVG 1.1//EN\"\n  \"http://www.w3.org/Graphics/SVG/1.1/DTD/svg11.dtd\">\n<!-- Created with matplotlib (https://matplotlib.org/) -->\n<svg height=\"248.518125pt\" version=\"1.1\" viewBox=\"0 0 370.400438 248.518125\" width=\"370.400438pt\" xmlns=\"http://www.w3.org/2000/svg\" xmlns:xlink=\"http://www.w3.org/1999/xlink\">\n <metadata>\n  <rdf:RDF xmlns:cc=\"http://creativecommons.org/ns#\" xmlns:dc=\"http://purl.org/dc/elements/1.1/\" xmlns:rdf=\"http://www.w3.org/1999/02/22-rdf-syntax-ns#\">\n   <cc:Work>\n    <dc:type rdf:resource=\"http://purl.org/dc/dcmitype/StillImage\"/>\n    <dc:date>2022-05-06T19:17:39.186596</dc:date>\n    <dc:format>image/svg+xml</dc:format>\n    <dc:creator>\n     <cc:Agent>\n      <dc:title>Matplotlib v3.3.4, https://matplotlib.org/</dc:title>\n     </cc:Agent>\n    </dc:creator>\n   </cc:Work>\n  </rdf:RDF>\n </metadata>\n <defs>\n  <style type=\"text/css\">*{stroke-linecap:butt;stroke-linejoin:round;}</style>\n </defs>\n <g id=\"figure_1\">\n  <g id=\"patch_1\">\n   <path d=\"M -0 248.518125 \nL 370.400438 248.518125 \nL 370.400438 0 \nL -0 0 \nz\n\" style=\"fill:none;\"/>\n  </g>\n  <g id=\"axes_1\">\n   <g id=\"patch_2\">\n    <path d=\"M 38.482813 224.64 \nL 306.322813 224.64 \nL 306.322813 7.2 \nL 38.482813 7.2 \nz\n\" style=\"fill:#ffffff;\"/>\n   </g>\n   <g id=\"PathCollection_1\">\n    <defs>\n     <path d=\"M 0 3 \nC 0.795609 3 1.55874 2.683901 2.12132 2.12132 \nC 2.683901 1.55874 3 0.795609 3 -0 \nC 3 -0.795609 2.683901 -1.55874 2.12132 -2.12132 \nC 1.55874 -2.683901 0.795609 -3 0 -3 \nC -0.795609 -3 -1.55874 -2.683901 -2.12132 -2.12132 \nC -2.683901 -1.55874 -3 -0.795609 -3 0 \nC -3 0.795609 -2.683901 1.55874 -2.12132 2.12132 \nC -1.55874 2.683901 -0.795609 3 0 3 \nz\n\" id=\"C0_0_5e2d153fa9\"/>\n    </defs>\n    <g clip-path=\"url(#p6100c84597)\">\n     <use style=\"fill:#472a7a;stroke:#472a7a;\" x=\"129.464596\" xlink:href=\"#C0_0_5e2d153fa9\" y=\"68.8441\"/>\n    </g>\n    <g clip-path=\"url(#p6100c84597)\">\n     <use style=\"fill:#addc30;stroke:#addc30;\" x=\"223.544927\" xlink:href=\"#C0_0_5e2d153fa9\" y=\"214.756364\"/>\n    </g>\n    <g clip-path=\"url(#p6100c84597)\">\n     <use style=\"fill:#2e6d8e;stroke:#2e6d8e;\" x=\"170.656036\" xlink:href=\"#C0_0_5e2d153fa9\" y=\"139.456173\"/>\n    </g>\n    <g clip-path=\"url(#p6100c84597)\">\n     <use style=\"fill:#c5e021;stroke:#c5e021;\" x=\"274.266493\" xlink:href=\"#C0_0_5e2d153fa9\" y=\"151.472777\"/>\n    </g>\n    <g clip-path=\"url(#p6100c84597)\">\n     <use style=\"fill:#481467;stroke:#481467;\" x=\"78.339587\" xlink:href=\"#C0_0_5e2d153fa9\" y=\"93.66497\"/>\n    </g>\n    <g clip-path=\"url(#p6100c84597)\">\n     <use style=\"fill:#54c568;stroke:#54c568;\" x=\"282.408912\" xlink:href=\"#C0_0_5e2d153fa9\" y=\"97.045789\"/>\n    </g>\n    <g clip-path=\"url(#p6100c84597)\">\n     <use style=\"fill:#375a8c;stroke:#375a8c;\" x=\"146.66341\" xlink:href=\"#C0_0_5e2d153fa9\" y=\"150.048769\"/>\n    </g>\n    <g clip-path=\"url(#p6100c84597)\">\n     <use style=\"fill:#482979;stroke:#482979;\" x=\"108.898238\" xlink:href=\"#C0_0_5e2d153fa9\" y=\"131.843412\"/>\n    </g>\n    <g clip-path=\"url(#p6100c84597)\">\n     <use style=\"fill:#20928c;stroke:#20928c;\" x=\"172.835314\" xlink:href=\"#C0_0_5e2d153fa9\" y=\"179.051587\"/>\n    </g>\n    <g clip-path=\"url(#p6100c84597)\">\n     <use style=\"fill:#481d6f;stroke:#481d6f;\" x=\"93.422118\" xlink:href=\"#C0_0_5e2d153fa9\" y=\"136.364628\"/>\n    </g>\n    <g clip-path=\"url(#p6100c84597)\">\n     <use style=\"fill:#453581;stroke:#453581;\" x=\"149.612778\" xlink:href=\"#C0_0_5e2d153fa9\" y=\"67.000772\"/>\n    </g>\n    <g clip-path=\"url(#p6100c84597)\">\n     <use style=\"fill:#297b8e;stroke:#297b8e;\" x=\"212.535036\" xlink:href=\"#C0_0_5e2d153fa9\" y=\"100.904669\"/>\n    </g>\n    <g clip-path=\"url(#p6100c84597)\">\n     <use style=\"fill:#c2df23;stroke:#c2df23;\" x=\"250.200995\" xlink:href=\"#C0_0_5e2d153fa9\" y=\"184.255259\"/>\n    </g>\n    <g clip-path=\"url(#p6100c84597)\">\n     <use style=\"fill:#3e4a89;stroke:#3e4a89;\" x=\"179.775403\" xlink:href=\"#C0_0_5e2d153fa9\" y=\"72.019596\"/>\n    </g>\n    <g clip-path=\"url(#p6100c84597)\">\n     <use style=\"fill:#228c8d;stroke:#228c8d;\" x=\"195.657962\" xlink:href=\"#C0_0_5e2d153fa9\" y=\"142.571632\"/>\n    </g>\n    <g clip-path=\"url(#p6100c84597)\">\n     <use style=\"fill:#38598c;stroke:#38598c;\" x=\"165.872966\" xlink:href=\"#C0_0_5e2d153fa9\" y=\"118.897251\"/>\n    </g>\n    <g clip-path=\"url(#p6100c84597)\">\n     <use style=\"fill:#fde725;stroke:#fde725;\" x=\"262.010397\" xlink:href=\"#C0_0_5e2d153fa9\" y=\"208.013707\"/>\n    </g>\n    <g clip-path=\"url(#p6100c84597)\">\n     <use style=\"fill:#b5de2b;stroke:#b5de2b;\" x=\"291.092113\" xlink:href=\"#C0_0_5e2d153fa9\" y=\"123.956697\"/>\n    </g>\n    <g clip-path=\"url(#p6100c84597)\">\n     <use style=\"fill:#b8de29;stroke:#b8de29;\" x=\"290.287202\" xlink:href=\"#C0_0_5e2d153fa9\" y=\"125.542516\"/>\n    </g>\n    <g clip-path=\"url(#p6100c84597)\">\n     <use style=\"fill:#481d6f;stroke:#481d6f;\" x=\"99.525366\" xlink:href=\"#C0_0_5e2d153fa9\" y=\"76.412551\"/>\n    </g>\n    <g clip-path=\"url(#p6100c84597)\">\n     <use style=\"fill:#34618d;stroke:#34618d;\" x=\"191.442051\" xlink:href=\"#C0_0_5e2d153fa9\" y=\"94.795193\"/>\n    </g>\n    <g clip-path=\"url(#p6100c84597)\">\n     <use style=\"fill:#482677;stroke:#482677;\" x=\"118.225412\" xlink:href=\"#C0_0_5e2d153fa9\" y=\"48.268751\"/>\n    </g>\n    <g clip-path=\"url(#p6100c84597)\">\n     <use style=\"fill:#481c6e;stroke:#481c6e;\" x=\"73.809898\" xlink:href=\"#C0_0_5e2d153fa9\" y=\"188.89261\"/>\n    </g>\n    <g clip-path=\"url(#p6100c84597)\">\n     <use style=\"fill:#3bbb75;stroke:#3bbb75;\" x=\"191.903254\" xlink:href=\"#C0_0_5e2d153fa9\" y=\"198.270571\"/>\n    </g>\n    <g clip-path=\"url(#p6100c84597)\">\n     <use style=\"fill:#27808e;stroke:#27808e;\" x=\"169.91657\" xlink:href=\"#C0_0_5e2d153fa9\" y=\"163.734578\"/>\n    </g>\n    <g clip-path=\"url(#p6100c84597)\">\n     <use style=\"fill:#2fb47c;stroke:#2fb47c;\" x=\"203.880562\" xlink:href=\"#C0_0_5e2d153fa9\" y=\"173.625838\"/>\n    </g>\n    <g clip-path=\"url(#p6100c84597)\">\n     <use style=\"fill:#fbe723;stroke:#fbe723;\" x=\"272.103354\" xlink:href=\"#C0_0_5e2d153fa9\" y=\"185.714919\"/>\n    </g>\n    <g clip-path=\"url(#p6100c84597)\">\n     <use style=\"fill:#3b518b;stroke:#3b518b;\" x=\"145.996677\" xlink:href=\"#C0_0_5e2d153fa9\" y=\"138.449033\"/>\n    </g>\n    <g clip-path=\"url(#p6100c84597)\">\n     <use style=\"fill:#95d840;stroke:#95d840;\" x=\"217.436696\" xlink:href=\"#C0_0_5e2d153fa9\" y=\"210.164053\"/>\n    </g>\n    <g clip-path=\"url(#p6100c84597)\">\n     <use style=\"fill:#355f8d;stroke:#355f8d;\" x=\"188.508258\" xlink:href=\"#C0_0_5e2d153fa9\" y=\"95.299291\"/>\n    </g>\n    <g clip-path=\"url(#p6100c84597)\">\n     <use style=\"fill:#39558c;stroke:#39558c;\" x=\"164.132057\" xlink:href=\"#C0_0_5e2d153fa9\" y=\"116.745016\"/>\n    </g>\n    <g clip-path=\"url(#p6100c84597)\">\n     <use style=\"fill:#424086;stroke:#424086;\" x=\"175.012431\" xlink:href=\"#C0_0_5e2d153fa9\" y=\"53.27694\"/>\n    </g>\n    <g clip-path=\"url(#p6100c84597)\">\n     <use style=\"fill:#54c568;stroke:#54c568;\" x=\"210.117042\" xlink:href=\"#C0_0_5e2d153fa9\" y=\"186.645561\"/>\n    </g>\n    <g clip-path=\"url(#p6100c84597)\">\n     <use style=\"fill:#1fa187;stroke:#1fa187;\" x=\"205.759895\" xlink:href=\"#C0_0_5e2d153fa9\" y=\"152.183071\"/>\n    </g>\n    <g clip-path=\"url(#p6100c84597)\">\n     <use style=\"fill:#440154;stroke:#440154;\" x=\"50.657358\" xlink:href=\"#C0_0_5e2d153fa9\" y=\"127.693035\"/>\n    </g>\n    <g clip-path=\"url(#p6100c84597)\">\n     <use style=\"fill:#29af7f;stroke:#29af7f;\" x=\"227.215171\" xlink:href=\"#C0_0_5e2d153fa9\" y=\"138.59583\"/>\n    </g>\n    <g clip-path=\"url(#p6100c84597)\">\n     <use style=\"fill:#d2e21b;stroke:#d2e21b;\" x=\"256.446596\" xlink:href=\"#C0_0_5e2d153fa9\" y=\"183.643005\"/>\n    </g>\n    <g clip-path=\"url(#p6100c84597)\">\n     <use style=\"fill:#6ece58;stroke:#6ece58;\" x=\"206.993233\" xlink:href=\"#C0_0_5e2d153fa9\" y=\"205.262354\"/>\n    </g>\n    <g clip-path=\"url(#p6100c84597)\">\n     <use style=\"fill:#481b6d;stroke:#481b6d;\" x=\"80.264315\" xlink:href=\"#C0_0_5e2d153fa9\" y=\"170.261388\"/>\n    </g>\n    <g clip-path=\"url(#p6100c84597)\">\n     <use style=\"fill:#b2dd2d;stroke:#b2dd2d;\" x=\"230.938707\" xlink:href=\"#C0_0_5e2d153fa9\" y=\"206.000761\"/>\n    </g>\n    <g clip-path=\"url(#p6100c84597)\">\n     <use style=\"fill:#472d7b;stroke:#472d7b;\" x=\"140.998419\" xlink:href=\"#C0_0_5e2d153fa9\" y=\"17.083636\"/>\n    </g>\n    <g clip-path=\"url(#p6100c84597)\">\n     <use style=\"fill:#450457;stroke:#450457;\" x=\"53.268846\" xlink:href=\"#C0_0_5e2d153fa9\" y=\"118.166462\"/>\n    </g>\n    <g clip-path=\"url(#p6100c84597)\">\n     <use style=\"fill:#471365;stroke:#471365;\" x=\"78.864638\" xlink:href=\"#C0_0_5e2d153fa9\" y=\"103.401518\"/>\n    </g>\n    <g clip-path=\"url(#p6100c84597)\">\n     <use style=\"fill:#e5e419;stroke:#e5e419;\" x=\"294.148267\" xlink:href=\"#C0_0_5e2d153fa9\" y=\"139.375521\"/>\n    </g>\n    <g clip-path=\"url(#p6100c84597)\">\n     <use style=\"fill:#460b5e;stroke:#460b5e;\" x=\"67.118887\" xlink:href=\"#C0_0_5e2d153fa9\" y=\"115.54057\"/>\n    </g>\n    <g clip-path=\"url(#p6100c84597)\">\n     <use style=\"fill:#3a548c;stroke:#3a548c;\" x=\"173.858129\" xlink:href=\"#C0_0_5e2d153fa9\" y=\"101.175588\"/>\n    </g>\n    <g clip-path=\"url(#p6100c84597)\">\n     <use style=\"fill:#eae51a;stroke:#eae51a;\" x=\"276.768893\" xlink:href=\"#C0_0_5e2d153fa9\" y=\"166.684205\"/>\n    </g>\n    <g clip-path=\"url(#p6100c84597)\">\n     <use style=\"fill:#482576;stroke:#482576;\" x=\"115.466378\" xlink:href=\"#C0_0_5e2d153fa9\" y=\"72.087994\"/>\n    </g>\n    <g clip-path=\"url(#p6100c84597)\">\n     <use style=\"fill:#25838e;stroke:#25838e;\" x=\"165.245967\" xlink:href=\"#C0_0_5e2d153fa9\" y=\"173.553167\"/>\n    </g>\n    <g clip-path=\"url(#p6100c84597)\">\n     <use style=\"fill:#63cb5f;stroke:#63cb5f;\" x=\"230.160003\" xlink:href=\"#C0_0_5e2d153fa9\" y=\"167.063394\"/>\n    </g>\n   </g>\n   <g id=\"matplotlib.axis_1\">\n    <g id=\"xtick_1\">\n     <g id=\"line2d_1\">\n      <defs>\n       <path d=\"M 0 0 \nL 0 3.5 \n\" id=\"m367bd9ff89\" style=\"stroke:#000000;stroke-width:0.8;\"/>\n      </defs>\n      <g>\n       <use style=\"stroke:#000000;stroke-width:0.8;\" x=\"67.012979\" xlink:href=\"#m367bd9ff89\" y=\"224.64\"/>\n      </g>\n     </g>\n     <g id=\"text_1\">\n      <!-- −1.0 -->\n      <g transform=\"translate(54.871573 239.238438)scale(0.1 -0.1)\">\n       <defs>\n        <path d=\"M 10.59375 35.5 \nL 73.1875 35.5 \nL 73.1875 27.203125 \nL 10.59375 27.203125 \nz\n\" id=\"DejaVuSans-8722\"/>\n        <path d=\"M 12.40625 8.296875 \nL 28.515625 8.296875 \nL 28.515625 63.921875 \nL 10.984375 60.40625 \nL 10.984375 69.390625 \nL 28.421875 72.90625 \nL 38.28125 72.90625 \nL 38.28125 8.296875 \nL 54.390625 8.296875 \nL 54.390625 0 \nL 12.40625 0 \nz\n\" id=\"DejaVuSans-49\"/>\n        <path d=\"M 10.6875 12.40625 \nL 21 12.40625 \nL 21 0 \nL 10.6875 0 \nz\n\" id=\"DejaVuSans-46\"/>\n        <path d=\"M 31.78125 66.40625 \nQ 24.171875 66.40625 20.328125 58.90625 \nQ 16.5 51.421875 16.5 36.375 \nQ 16.5 21.390625 20.328125 13.890625 \nQ 24.171875 6.390625 31.78125 6.390625 \nQ 39.453125 6.390625 43.28125 13.890625 \nQ 47.125 21.390625 47.125 36.375 \nQ 47.125 51.421875 43.28125 58.90625 \nQ 39.453125 66.40625 31.78125 66.40625 \nz\nM 31.78125 74.21875 \nQ 44.046875 74.21875 50.515625 64.515625 \nQ 56.984375 54.828125 56.984375 36.375 \nQ 56.984375 17.96875 50.515625 8.265625 \nQ 44.046875 -1.421875 31.78125 -1.421875 \nQ 19.53125 -1.421875 13.0625 8.265625 \nQ 6.59375 17.96875 6.59375 36.375 \nQ 6.59375 54.828125 13.0625 64.515625 \nQ 19.53125 74.21875 31.78125 74.21875 \nz\n\" id=\"DejaVuSans-48\"/>\n       </defs>\n       <use xlink:href=\"#DejaVuSans-8722\"/>\n       <use x=\"83.789062\" xlink:href=\"#DejaVuSans-49\"/>\n       <use x=\"147.412109\" xlink:href=\"#DejaVuSans-46\"/>\n       <use x=\"179.199219\" xlink:href=\"#DejaVuSans-48\"/>\n      </g>\n     </g>\n    </g>\n    <g id=\"xtick_2\">\n     <g id=\"line2d_2\">\n      <g>\n       <use style=\"stroke:#000000;stroke-width:0.8;\" x=\"104.12338\" xlink:href=\"#m367bd9ff89\" y=\"224.64\"/>\n      </g>\n     </g>\n     <g id=\"text_2\">\n      <!-- −0.5 -->\n      <g transform=\"translate(91.981973 239.238438)scale(0.1 -0.1)\">\n       <defs>\n        <path d=\"M 10.796875 72.90625 \nL 49.515625 72.90625 \nL 49.515625 64.59375 \nL 19.828125 64.59375 \nL 19.828125 46.734375 \nQ 21.96875 47.46875 24.109375 47.828125 \nQ 26.265625 48.1875 28.421875 48.1875 \nQ 40.625 48.1875 47.75 41.5 \nQ 54.890625 34.8125 54.890625 23.390625 \nQ 54.890625 11.625 47.5625 5.09375 \nQ 40.234375 -1.421875 26.90625 -1.421875 \nQ 22.3125 -1.421875 17.546875 -0.640625 \nQ 12.796875 0.140625 7.71875 1.703125 \nL 7.71875 11.625 \nQ 12.109375 9.234375 16.796875 8.0625 \nQ 21.484375 6.890625 26.703125 6.890625 \nQ 35.15625 6.890625 40.078125 11.328125 \nQ 45.015625 15.765625 45.015625 23.390625 \nQ 45.015625 31 40.078125 35.4375 \nQ 35.15625 39.890625 26.703125 39.890625 \nQ 22.75 39.890625 18.8125 39.015625 \nQ 14.890625 38.140625 10.796875 36.28125 \nz\n\" id=\"DejaVuSans-53\"/>\n       </defs>\n       <use xlink:href=\"#DejaVuSans-8722\"/>\n       <use x=\"83.789062\" xlink:href=\"#DejaVuSans-48\"/>\n       <use x=\"147.412109\" xlink:href=\"#DejaVuSans-46\"/>\n       <use x=\"179.199219\" xlink:href=\"#DejaVuSans-53\"/>\n      </g>\n     </g>\n    </g>\n    <g id=\"xtick_3\">\n     <g id=\"line2d_3\">\n      <g>\n       <use style=\"stroke:#000000;stroke-width:0.8;\" x=\"141.23378\" xlink:href=\"#m367bd9ff89\" y=\"224.64\"/>\n      </g>\n     </g>\n     <g id=\"text_3\">\n      <!-- 0.0 -->\n      <g transform=\"translate(133.282218 239.238438)scale(0.1 -0.1)\">\n       <use xlink:href=\"#DejaVuSans-48\"/>\n       <use x=\"63.623047\" xlink:href=\"#DejaVuSans-46\"/>\n       <use x=\"95.410156\" xlink:href=\"#DejaVuSans-48\"/>\n      </g>\n     </g>\n    </g>\n    <g id=\"xtick_4\">\n     <g id=\"line2d_4\">\n      <g>\n       <use style=\"stroke:#000000;stroke-width:0.8;\" x=\"178.344181\" xlink:href=\"#m367bd9ff89\" y=\"224.64\"/>\n      </g>\n     </g>\n     <g id=\"text_4\">\n      <!-- 0.5 -->\n      <g transform=\"translate(170.392619 239.238438)scale(0.1 -0.1)\">\n       <use xlink:href=\"#DejaVuSans-48\"/>\n       <use x=\"63.623047\" xlink:href=\"#DejaVuSans-46\"/>\n       <use x=\"95.410156\" xlink:href=\"#DejaVuSans-53\"/>\n      </g>\n     </g>\n    </g>\n    <g id=\"xtick_5\">\n     <g id=\"line2d_5\">\n      <g>\n       <use style=\"stroke:#000000;stroke-width:0.8;\" x=\"215.454582\" xlink:href=\"#m367bd9ff89\" y=\"224.64\"/>\n      </g>\n     </g>\n     <g id=\"text_5\">\n      <!-- 1.0 -->\n      <g transform=\"translate(207.503019 239.238438)scale(0.1 -0.1)\">\n       <use xlink:href=\"#DejaVuSans-49\"/>\n       <use x=\"63.623047\" xlink:href=\"#DejaVuSans-46\"/>\n       <use x=\"95.410156\" xlink:href=\"#DejaVuSans-48\"/>\n      </g>\n     </g>\n    </g>\n    <g id=\"xtick_6\">\n     <g id=\"line2d_6\">\n      <g>\n       <use style=\"stroke:#000000;stroke-width:0.8;\" x=\"252.564982\" xlink:href=\"#m367bd9ff89\" y=\"224.64\"/>\n      </g>\n     </g>\n     <g id=\"text_6\">\n      <!-- 1.5 -->\n      <g transform=\"translate(244.61342 239.238438)scale(0.1 -0.1)\">\n       <use xlink:href=\"#DejaVuSans-49\"/>\n       <use x=\"63.623047\" xlink:href=\"#DejaVuSans-46\"/>\n       <use x=\"95.410156\" xlink:href=\"#DejaVuSans-53\"/>\n      </g>\n     </g>\n    </g>\n    <g id=\"xtick_7\">\n     <g id=\"line2d_7\">\n      <g>\n       <use style=\"stroke:#000000;stroke-width:0.8;\" x=\"289.675383\" xlink:href=\"#m367bd9ff89\" y=\"224.64\"/>\n      </g>\n     </g>\n     <g id=\"text_7\">\n      <!-- 2.0 -->\n      <g transform=\"translate(281.723821 239.238438)scale(0.1 -0.1)\">\n       <defs>\n        <path d=\"M 19.1875 8.296875 \nL 53.609375 8.296875 \nL 53.609375 0 \nL 7.328125 0 \nL 7.328125 8.296875 \nQ 12.9375 14.109375 22.625 23.890625 \nQ 32.328125 33.6875 34.8125 36.53125 \nQ 39.546875 41.84375 41.421875 45.53125 \nQ 43.3125 49.21875 43.3125 52.78125 \nQ 43.3125 58.59375 39.234375 62.25 \nQ 35.15625 65.921875 28.609375 65.921875 \nQ 23.96875 65.921875 18.8125 64.3125 \nQ 13.671875 62.703125 7.8125 59.421875 \nL 7.8125 69.390625 \nQ 13.765625 71.78125 18.9375 73 \nQ 24.125 74.21875 28.421875 74.21875 \nQ 39.75 74.21875 46.484375 68.546875 \nQ 53.21875 62.890625 53.21875 53.421875 \nQ 53.21875 48.921875 51.53125 44.890625 \nQ 49.859375 40.875 45.40625 35.40625 \nQ 44.1875 33.984375 37.640625 27.21875 \nQ 31.109375 20.453125 19.1875 8.296875 \nz\n\" id=\"DejaVuSans-50\"/>\n       </defs>\n       <use xlink:href=\"#DejaVuSans-50\"/>\n       <use x=\"63.623047\" xlink:href=\"#DejaVuSans-46\"/>\n       <use x=\"95.410156\" xlink:href=\"#DejaVuSans-48\"/>\n      </g>\n     </g>\n    </g>\n   </g>\n   <g id=\"matplotlib.axis_2\">\n    <g id=\"ytick_1\">\n     <g id=\"line2d_8\">\n      <defs>\n       <path d=\"M 0 0 \nL -3.5 0 \n\" id=\"m83bb25ace2\" style=\"stroke:#000000;stroke-width:0.8;\"/>\n      </defs>\n      <g>\n       <use style=\"stroke:#000000;stroke-width:0.8;\" x=\"38.482813\" xlink:href=\"#m83bb25ace2\" y=\"203.711068\"/>\n      </g>\n     </g>\n     <g id=\"text_8\">\n      <!-- −0.5 -->\n      <g transform=\"translate(7.2 207.510286)scale(0.1 -0.1)\">\n       <use xlink:href=\"#DejaVuSans-8722\"/>\n       <use x=\"83.789062\" xlink:href=\"#DejaVuSans-48\"/>\n       <use x=\"147.412109\" xlink:href=\"#DejaVuSans-46\"/>\n       <use x=\"179.199219\" xlink:href=\"#DejaVuSans-53\"/>\n      </g>\n     </g>\n    </g>\n    <g id=\"ytick_2\">\n     <g id=\"line2d_9\">\n      <g>\n       <use style=\"stroke:#000000;stroke-width:0.8;\" x=\"38.482813\" xlink:href=\"#m83bb25ace2\" y=\"158.295387\"/>\n      </g>\n     </g>\n     <g id=\"text_9\">\n      <!-- 0.0 -->\n      <g transform=\"translate(15.579688 162.094605)scale(0.1 -0.1)\">\n       <use xlink:href=\"#DejaVuSans-48\"/>\n       <use x=\"63.623047\" xlink:href=\"#DejaVuSans-46\"/>\n       <use x=\"95.410156\" xlink:href=\"#DejaVuSans-48\"/>\n      </g>\n     </g>\n    </g>\n    <g id=\"ytick_3\">\n     <g id=\"line2d_10\">\n      <g>\n       <use style=\"stroke:#000000;stroke-width:0.8;\" x=\"38.482813\" xlink:href=\"#m83bb25ace2\" y=\"112.879705\"/>\n      </g>\n     </g>\n     <g id=\"text_10\">\n      <!-- 0.5 -->\n      <g transform=\"translate(15.579688 116.678924)scale(0.1 -0.1)\">\n       <use xlink:href=\"#DejaVuSans-48\"/>\n       <use x=\"63.623047\" xlink:href=\"#DejaVuSans-46\"/>\n       <use x=\"95.410156\" xlink:href=\"#DejaVuSans-53\"/>\n      </g>\n     </g>\n    </g>\n    <g id=\"ytick_4\">\n     <g id=\"line2d_11\">\n      <g>\n       <use style=\"stroke:#000000;stroke-width:0.8;\" x=\"38.482813\" xlink:href=\"#m83bb25ace2\" y=\"67.464024\"/>\n      </g>\n     </g>\n     <g id=\"text_11\">\n      <!-- 1.0 -->\n      <g transform=\"translate(15.579688 71.263243)scale(0.1 -0.1)\">\n       <use xlink:href=\"#DejaVuSans-49\"/>\n       <use x=\"63.623047\" xlink:href=\"#DejaVuSans-46\"/>\n       <use x=\"95.410156\" xlink:href=\"#DejaVuSans-48\"/>\n      </g>\n     </g>\n    </g>\n    <g id=\"ytick_5\">\n     <g id=\"line2d_12\">\n      <g>\n       <use style=\"stroke:#000000;stroke-width:0.8;\" x=\"38.482813\" xlink:href=\"#m83bb25ace2\" y=\"22.048343\"/>\n      </g>\n     </g>\n     <g id=\"text_12\">\n      <!-- 1.5 -->\n      <g transform=\"translate(15.579688 25.847562)scale(0.1 -0.1)\">\n       <use xlink:href=\"#DejaVuSans-49\"/>\n       <use x=\"63.623047\" xlink:href=\"#DejaVuSans-46\"/>\n       <use x=\"95.410156\" xlink:href=\"#DejaVuSans-53\"/>\n      </g>\n     </g>\n    </g>\n   </g>\n   <g id=\"patch_3\">\n    <path d=\"M 38.482813 224.64 \nL 38.482813 7.2 \n\" style=\"fill:none;stroke:#000000;stroke-linecap:square;stroke-linejoin:miter;stroke-width:0.8;\"/>\n   </g>\n   <g id=\"patch_4\">\n    <path d=\"M 306.322813 224.64 \nL 306.322813 7.2 \n\" style=\"fill:none;stroke:#000000;stroke-linecap:square;stroke-linejoin:miter;stroke-width:0.8;\"/>\n   </g>\n   <g id=\"patch_5\">\n    <path d=\"M 38.482812 224.64 \nL 306.322812 224.64 \n\" style=\"fill:none;stroke:#000000;stroke-linecap:square;stroke-linejoin:miter;stroke-width:0.8;\"/>\n   </g>\n   <g id=\"patch_6\">\n    <path d=\"M 38.482812 7.2 \nL 306.322812 7.2 \n\" style=\"fill:none;stroke:#000000;stroke-linecap:square;stroke-linejoin:miter;stroke-width:0.8;\"/>\n   </g>\n  </g>\n  <g id=\"axes_2\">\n   <g id=\"patch_7\">\n    <path clip-path=\"url(#pe8426e40aa)\" d=\"M 323.062813 224.64 \nL 323.062813 223.790625 \nL 323.062813 8.049375 \nL 323.062813 7.2 \nL 333.934813 7.2 \nL 333.934813 8.049375 \nL 333.934813 223.790625 \nL 333.934813 224.64 \nz\n\" style=\"fill:#ffffff;stroke:#ffffff;stroke-linejoin:miter;stroke-width:0.01;\"/>\n   </g>\n   <image height=\"217\" id=\"image9394d44303\" transform=\"scale(1 -1)translate(0 -217)\" width=\"11\" x=\"323\" xlink:href=\"data:image/png;base64,\niVBORw0KGgoAAAANSUhEUgAAAAsAAADZCAYAAAD2WsoCAAABSElEQVR4nN2awQ0CMQwEYztHZdRA/41AaMHzGMl3vK3V7qxD0HHxzs9Zzc+OjO7s2iuyP8yUq4gNoBwJPCPlpSkHosEa1IaHcBZpaDZEdBaNw2y0Z00aomftWJ2a0WB/1gx4NBsooLdIhxxYjwZUBsNwn4nyHWmIdSMbmrJGw9wNS9nkfEN0M7ZuirJHoz+LL3piA92Dmo3n1/14dDcM6NW9on++x6C7Hw3gmAcEnr1SRM4zaICfSG4pXsARyuA5GaTBbMxAl2JAi4bnOZMMezaWha7yB2x4AUUaYHhrNLyAng1GQ/RslbKZMhgusW6LxhVfSRnSsAIWUb6S0CANlrd1xAasG9kY0SDizGgwG1ZAVMpLDKjthnasrgVowIDWPciWn30VeAHbs1S5L7z2i/zdgJSLKYPhIsNI+Qrwug7zTN45SfCQ6g9eiIFo/nbsswAAAABJRU5ErkJggg==\" y=\"-7\"/>\n   <g id=\"matplotlib.axis_3\"/>\n   <g id=\"matplotlib.axis_4\">\n    <g id=\"ytick_6\">\n     <g id=\"line2d_13\">\n      <defs>\n       <path d=\"M 0 0 \nL 3.5 0 \n\" id=\"m98b4478f42\" style=\"stroke:#000000;stroke-width:0.8;\"/>\n      </defs>\n      <g>\n       <use style=\"stroke:#000000;stroke-width:0.8;\" x=\"333.934813\" xlink:href=\"#m98b4478f42\" y=\"203.168216\"/>\n      </g>\n     </g>\n     <g id=\"text_13\">\n      <!-- 0.68 -->\n      <g transform=\"translate(340.934813 206.967434)scale(0.1 -0.1)\">\n       <defs>\n        <path d=\"M 33.015625 40.375 \nQ 26.375 40.375 22.484375 35.828125 \nQ 18.609375 31.296875 18.609375 23.390625 \nQ 18.609375 15.53125 22.484375 10.953125 \nQ 26.375 6.390625 33.015625 6.390625 \nQ 39.65625 6.390625 43.53125 10.953125 \nQ 47.40625 15.53125 47.40625 23.390625 \nQ 47.40625 31.296875 43.53125 35.828125 \nQ 39.65625 40.375 33.015625 40.375 \nz\nM 52.59375 71.296875 \nL 52.59375 62.3125 \nQ 48.875 64.0625 45.09375 64.984375 \nQ 41.3125 65.921875 37.59375 65.921875 \nQ 27.828125 65.921875 22.671875 59.328125 \nQ 17.53125 52.734375 16.796875 39.40625 \nQ 19.671875 43.65625 24.015625 45.921875 \nQ 28.375 48.1875 33.59375 48.1875 \nQ 44.578125 48.1875 50.953125 41.515625 \nQ 57.328125 34.859375 57.328125 23.390625 \nQ 57.328125 12.15625 50.6875 5.359375 \nQ 44.046875 -1.421875 33.015625 -1.421875 \nQ 20.359375 -1.421875 13.671875 8.265625 \nQ 6.984375 17.96875 6.984375 36.375 \nQ 6.984375 53.65625 15.1875 63.9375 \nQ 23.390625 74.21875 37.203125 74.21875 \nQ 40.921875 74.21875 44.703125 73.484375 \nQ 48.484375 72.75 52.59375 71.296875 \nz\n\" id=\"DejaVuSans-54\"/>\n        <path d=\"M 31.78125 34.625 \nQ 24.75 34.625 20.71875 30.859375 \nQ 16.703125 27.09375 16.703125 20.515625 \nQ 16.703125 13.921875 20.71875 10.15625 \nQ 24.75 6.390625 31.78125 6.390625 \nQ 38.8125 6.390625 42.859375 10.171875 \nQ 46.921875 13.96875 46.921875 20.515625 \nQ 46.921875 27.09375 42.890625 30.859375 \nQ 38.875 34.625 31.78125 34.625 \nz\nM 21.921875 38.8125 \nQ 15.578125 40.375 12.03125 44.71875 \nQ 8.5 49.078125 8.5 55.328125 \nQ 8.5 64.0625 14.71875 69.140625 \nQ 20.953125 74.21875 31.78125 74.21875 \nQ 42.671875 74.21875 48.875 69.140625 \nQ 55.078125 64.0625 55.078125 55.328125 \nQ 55.078125 49.078125 51.53125 44.71875 \nQ 48 40.375 41.703125 38.8125 \nQ 48.828125 37.15625 52.796875 32.3125 \nQ 56.78125 27.484375 56.78125 20.515625 \nQ 56.78125 9.90625 50.3125 4.234375 \nQ 43.84375 -1.421875 31.78125 -1.421875 \nQ 19.734375 -1.421875 13.25 4.234375 \nQ 6.78125 9.90625 6.78125 20.515625 \nQ 6.78125 27.484375 10.78125 32.3125 \nQ 14.796875 37.15625 21.921875 38.8125 \nz\nM 18.3125 54.390625 \nQ 18.3125 48.734375 21.84375 45.5625 \nQ 25.390625 42.390625 31.78125 42.390625 \nQ 38.140625 42.390625 41.71875 45.5625 \nQ 45.3125 48.734375 45.3125 54.390625 \nQ 45.3125 60.0625 41.71875 63.234375 \nQ 38.140625 66.40625 31.78125 66.40625 \nQ 25.390625 66.40625 21.84375 63.234375 \nQ 18.3125 60.0625 18.3125 54.390625 \nz\n\" id=\"DejaVuSans-56\"/>\n       </defs>\n       <use xlink:href=\"#DejaVuSans-48\"/>\n       <use x=\"63.623047\" xlink:href=\"#DejaVuSans-46\"/>\n       <use x=\"95.410156\" xlink:href=\"#DejaVuSans-54\"/>\n       <use x=\"159.033203\" xlink:href=\"#DejaVuSans-56\"/>\n      </g>\n     </g>\n    </g>\n    <g id=\"ytick_7\">\n     <g id=\"line2d_14\">\n      <g>\n       <use style=\"stroke:#000000;stroke-width:0.8;\" x=\"333.934813\" xlink:href=\"#m98b4478f42\" y=\"163.059805\"/>\n      </g>\n     </g>\n     <g id=\"text_14\">\n      <!-- 0.70 -->\n      <g transform=\"translate(340.934813 166.859024)scale(0.1 -0.1)\">\n       <defs>\n        <path d=\"M 8.203125 72.90625 \nL 55.078125 72.90625 \nL 55.078125 68.703125 \nL 28.609375 0 \nL 18.3125 0 \nL 43.21875 64.59375 \nL 8.203125 64.59375 \nz\n\" id=\"DejaVuSans-55\"/>\n       </defs>\n       <use xlink:href=\"#DejaVuSans-48\"/>\n       <use x=\"63.623047\" xlink:href=\"#DejaVuSans-46\"/>\n       <use x=\"95.410156\" xlink:href=\"#DejaVuSans-55\"/>\n       <use x=\"159.033203\" xlink:href=\"#DejaVuSans-48\"/>\n      </g>\n     </g>\n    </g>\n    <g id=\"ytick_8\">\n     <g id=\"line2d_15\">\n      <g>\n       <use style=\"stroke:#000000;stroke-width:0.8;\" x=\"333.934813\" xlink:href=\"#m98b4478f42\" y=\"122.951395\"/>\n      </g>\n     </g>\n     <g id=\"text_15\">\n      <!-- 0.72 -->\n      <g transform=\"translate(340.934813 126.750613)scale(0.1 -0.1)\">\n       <use xlink:href=\"#DejaVuSans-48\"/>\n       <use x=\"63.623047\" xlink:href=\"#DejaVuSans-46\"/>\n       <use x=\"95.410156\" xlink:href=\"#DejaVuSans-55\"/>\n       <use x=\"159.033203\" xlink:href=\"#DejaVuSans-50\"/>\n      </g>\n     </g>\n    </g>\n    <g id=\"ytick_9\">\n     <g id=\"line2d_16\">\n      <g>\n       <use style=\"stroke:#000000;stroke-width:0.8;\" x=\"333.934813\" xlink:href=\"#m98b4478f42\" y=\"82.842984\"/>\n      </g>\n     </g>\n     <g id=\"text_16\">\n      <!-- 0.74 -->\n      <g transform=\"translate(340.934813 86.642203)scale(0.1 -0.1)\">\n       <defs>\n        <path d=\"M 37.796875 64.3125 \nL 12.890625 25.390625 \nL 37.796875 25.390625 \nz\nM 35.203125 72.90625 \nL 47.609375 72.90625 \nL 47.609375 25.390625 \nL 58.015625 25.390625 \nL 58.015625 17.1875 \nL 47.609375 17.1875 \nL 47.609375 0 \nL 37.796875 0 \nL 37.796875 17.1875 \nL 4.890625 17.1875 \nL 4.890625 26.703125 \nz\n\" id=\"DejaVuSans-52\"/>\n       </defs>\n       <use xlink:href=\"#DejaVuSans-48\"/>\n       <use x=\"63.623047\" xlink:href=\"#DejaVuSans-46\"/>\n       <use x=\"95.410156\" xlink:href=\"#DejaVuSans-55\"/>\n       <use x=\"159.033203\" xlink:href=\"#DejaVuSans-52\"/>\n      </g>\n     </g>\n    </g>\n    <g id=\"ytick_10\">\n     <g id=\"line2d_17\">\n      <g>\n       <use style=\"stroke:#000000;stroke-width:0.8;\" x=\"333.934813\" xlink:href=\"#m98b4478f42\" y=\"42.734573\"/>\n      </g>\n     </g>\n     <g id=\"text_17\">\n      <!-- 0.76 -->\n      <g transform=\"translate(340.934813 46.533792)scale(0.1 -0.1)\">\n       <use xlink:href=\"#DejaVuSans-48\"/>\n       <use x=\"63.623047\" xlink:href=\"#DejaVuSans-46\"/>\n       <use x=\"95.410156\" xlink:href=\"#DejaVuSans-55\"/>\n       <use x=\"159.033203\" xlink:href=\"#DejaVuSans-54\"/>\n      </g>\n     </g>\n    </g>\n   </g>\n   <g id=\"patch_8\">\n    <path d=\"M 323.062813 224.64 \nL 323.062813 223.790625 \nL 323.062813 8.049375 \nL 323.062813 7.2 \nL 333.934813 7.2 \nL 333.934813 8.049375 \nL 333.934813 223.790625 \nL 333.934813 224.64 \nz\n\" style=\"fill:none;stroke:#000000;stroke-linejoin:miter;stroke-width:0.8;\"/>\n   </g>\n  </g>\n </g>\n <defs>\n  <clipPath id=\"p6100c84597\">\n   <rect height=\"217.44\" width=\"267.84\" x=\"38.482813\" y=\"7.2\"/>\n  </clipPath>\n  <clipPath id=\"pe8426e40aa\">\n   <rect height=\"217.44\" width=\"10.872\" x=\"323.062813\" y=\"7.2\"/>\n  </clipPath>\n </defs>\n</svg>\n",
      "image/png": "[encoded data removed]"
     },
     "metadata": {
      "needs_background": "light"
     }
    }
   ],
   "metadata": {}
  },
  {
   "cell_type": "markdown",
   "source": [
    "#### What does the result mean?"
   ],
   "metadata": {}
  },
  {
   "cell_type": "markdown",
   "source": [
    "- --> The result it's whatever, all close to 0.5 (50% of being in each class)\n",
    "- --> But that's ok, because we just took random weights\n",
    "- --> We still have to learn the weights \n",
    "    - --> \"Now the magic happens, by finding something to update the weights!\"\n",
    "    - --> The magic of Backpropagation and Gradient Descent that we will do in the afternoon"
   ],
   "metadata": {}
  },
  {
   "cell_type": "markdown",
   "source": [
    "---"
   ],
   "metadata": {}
  },
  {
   "cell_type": "markdown",
   "source": [
    "### Get Accuracy\n",
    "- flatten both `ytrue` and `ypred` (so that they're both (50,) arrays)\n",
    "- round the `ypred` (either up to 1 or down to 0)\n",
    "- compare them to each other to get a boolean array (True where the values are the same, False where they are not)\n",
    "- sum the boolean array and divide by the length (i.e. take the mean)"
   ],
   "metadata": {}
  },
  {
   "cell_type": "code",
   "execution_count": 37,
   "source": [
    "def get_accuracy(ypred,ytrue):\n",
    "    acc = sum(ytrue.flatten() == ypred.flatten().round().astype(np.int64))\n",
    "    return acc/len(ytrue)"
   ],
   "outputs": [],
   "metadata": {}
  },
  {
   "cell_type": "code",
   "execution_count": 38,
   "source": [
    "get_accuracy(out2, y)"
   ],
   "outputs": [
    {
     "output_type": "execute_result",
     "data": {
      "text/plain": [
       "0.5"
      ]
     },
     "metadata": {},
     "execution_count": 38
    }
   ],
   "metadata": {}
  },
  {
   "cell_type": "code",
   "execution_count": null,
   "source": [],
   "outputs": [],
   "metadata": {}
  }
 ],
 "metadata": {
  "kernelspec": {
   "name": "python3",
   "display_name": "Python 3.8.8 64-bit ('base': conda)"
  },
  "language_info": {
   "codemirror_mode": {
    "name": "ipython",
    "version": 3
   },
   "file_extension": ".py",
   "mimetype": "text/x-python",
   "name": "python",
   "nbconvert_exporter": "python",
   "pygments_lexer": "ipython3",
   "version": "3.8.8"
  },
  "interpreter": {
   "hash": "dca0ade3e726a953b501b15e8e990130d2b7799f14cfd9f4271676035ebe5511"
  }
 },
 "nbformat": 4,
 "nbformat_minor": 4
}